{
 "cells": [
  {
   "attachments": {},
   "cell_type": "markdown",
   "metadata": {},
   "source": [
    "# Python-Data-Mining [3주차] \n",
    "## 3장. 시각화\n",
    "\n",
    "### 1. 데이터 시각화 \n",
    "> 데이터 시각화 \n"
   ]
  },
  {
   "cell_type": "code",
   "execution_count": 13,
   "metadata": {},
   "outputs": [],
   "source": [
    "# 패키지 설치 \n",
    "import os\n",
    "import calendar\n",
    "import numpy as np\n",
    "import pandas as pd"
   ]
  },
  {
   "cell_type": "code",
   "execution_count": 11,
   "metadata": {},
   "outputs": [
    {
     "name": "stdout",
     "output_type": "stream",
     "text": [
      "Requirement already satisfied: networkx in /Users/shimyuna/opt/anaconda3/lib/python3.9/site-packages (3.0)\n",
      "Note: you may need to restart the kernel to use updated packages.\n"
     ]
    }
   ],
   "source": [
    "%pip install networkx"
   ]
  },
  {
   "cell_type": "code",
   "execution_count": 1,
   "metadata": {},
   "outputs": [
    {
     "ename": "NameError",
     "evalue": "name 'pd' is not defined",
     "output_type": "error",
     "traceback": [
      "\u001b[0;31m---------------------------------------------------------------------------\u001b[0m",
      "\u001b[0;31mNameError\u001b[0m                                 Traceback (most recent call last)",
      "Cell \u001b[0;32mIn[1], line 1\u001b[0m\n\u001b[0;32m----> 1\u001b[0m Amtrak_df\u001b[39m=\u001b[39m pd\u001b[39m.\u001b[39mread_csv(\u001b[39m'\u001b[39m\u001b[39m/Users/shimyuna/Desktop/✳︎/Python-Data-Mining/데이터마이닝 수업 정리/Amtrak.csv\u001b[39m\u001b[39m'\u001b[39m)\n\u001b[1;32m      2\u001b[0m \u001b[39mprint\u001b[39m(Amtrak_df\u001b[39m.\u001b[39mcolumns) \u001b[39m# Amtrak_df의 컬럼을 보여줘 \u001b[39;00m\n\u001b[1;32m      3\u001b[0m Amtrak_df\u001b[39m.\u001b[39mhead(\u001b[39m10\u001b[39m)  \u001b[39m#위 10개까지만 보여줘 \u001b[39;00m\n",
      "\u001b[0;31mNameError\u001b[0m: name 'pd' is not defined"
     ]
    }
   ],
   "source": [
    "Amtrak_df= pd.read_csv('/Users/shimyuna/Desktop/✳︎/Python-Data-Mining/datamining/Amtrak.csv')\n",
    "print(Amtrak_df.columns) # Amtrak_df의 컬럼을 보여줘 \n",
    "Amtrak_df.head(10)  #위 10개까지만 보여줘 "
   ]
  },
  {
   "cell_type": "code",
   "execution_count": null,
   "metadata": {},
   "outputs": [],
   "source": []
  }
 ],
 "metadata": {
  "kernelspec": {
   "display_name": "conda",
   "language": "python",
   "name": "conda"
  },
  "language_info": {
   "codemirror_mode": {
    "name": "ipython",
    "version": 3
   },
   "file_extension": ".py",
   "mimetype": "text/x-python",
   "name": "python",
   "nbconvert_exporter": "python",
   "pygments_lexer": "ipython3",
   "version": "3.9.13"
  },
  "orig_nbformat": 4
 },
 "nbformat": 4,
 "nbformat_minor": 2
}
