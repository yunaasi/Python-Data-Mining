{
 "cells": [
  {
   "cell_type": "markdown",
   "metadata": {},
   "source": [
    "# Python-Data-Mining [2주차] \n",
    "## CH1. 데이터 마이닝 개요\n",
    "\n",
    "### 1.데이터 마이닝 프로세스\n",
    "목적 결정 > 데이터 수집 > 데이터 탐색 및 정제 > 데이터 마이닝 방법 결정 > 최종 모델 결정 > 성능 평가 > 적용\n",
    "\n",
    "### 2. 지도학습과 비지도 학습\n",
    ">지도 학습\n",
    "- 단일대상 또는 결과 변수예측\n",
    "- 모델링에 사용되는 데이터를 학습 데이터라 부름\n",
    "- 분류 및 예측\n",
    "\n",
    ">비지도 학습  >>>최근 더 많이 이용되는 추세\n",
    "- 예측하거나 분류할 타깃(결과)변수 없이 입력 데이터 내부의 패턴을 스스로 학습\n",
    "- 데이터 내 연관 규칙을 찾고, 비슷한 관측치끼리 군집하며, 차원을 축소하는데 사용\n",
    "- 연관 규칙, 협업 필터, 데이터 축소 및 탐색, 시각화 \n",
    "\n",
    "\n",
    "### 3. 분류 및 예측 \n",
    ">분류\n",
    "- 범주형 변수의 미래 값 예측\n",
    "    (범주형 데이터는 ‘A’, ‘B’, ‘C’와 같이 종류를 표시하는 데이터를 말한다. 카테고리(category)데이터라고도 부른다. ex. 성별, 혈액형)\n",
    "- ex. 제안 >> 응답/ 응답 안함 , 대출 >> 적시 상환/ 연체/ 파산 , 신용카드 거래 >> 정상/사기 등\n",
    "\n",
    ">예측 Prediction *\n",
    "- 숫자로 표현된 연속형 변수의 미래 값 예측\n",
    "    즉, 숫자,문서,이미지 등의 여러가지 입력 데이터를 주면, 데이터 분석의 결과로 다른 데이터를 출력하는 분석 방법\n",
    "- ex. 판매, 수익, 성과\n",
    "\n",
    "\n",
    "### 4. 연관 규칙과 추천 시스템 \n",
    ">연관 규칙 * 데이터정제시 가장 중요하다, 데이터 특징 feature할 경우의 point\n",
    "- 상호 연관성이 높은 항목 집합들을 찾아내는 분석 방법\n",
    "    - ex. 슈퍼마켓에서 제품간 연관성을 분석해 주간프로모션 쿠폰 발행, 비슷한 제품 비슷한 장소에 진열\n",
    "\n",
    ">추천 시스템\n",
    "- 아마존, 넷플릭스는 협업 필터링 기법을 사용함\n",
    "- 협업 필터링은 개개인의 포괄적인 과거 구매 정보와 다른 사람들의 구매 정보를 이용해 개개인의 구매 성향을 예측하는 추천 시스템 기법으로, 모든 고객의 일반적인 패턴을 찾는 연관 규칙과는 달리 개개인 맞춤 패턴 찾을 수 있음\n",
    "\n",
    "\n",
    "### 5. 데이터 축소와 자원 축소\n",
    ">데이터 축소/차원축소(Dimension Reduction)  *많은 파라미터들 중 버릴것과 그룹화 할것을 구분해 축소하는 과정\n",
    "- 많은 수의 관측치를 적은 수의 그룹으로 요약하는 과정 \n",
    "\n",
    ">자원 축소\n",
    "- 변수의 개수를 줄이는 과정\n",
    "- 지도 학습 전, 예측 성능을 향상하고 해석을 용이하게 하기 위해 자원 축소 진행\n",
    "\n",
    "\n",
    "### 6. 데이터 탐색과 시각화 \n",
    ">데이터 탐색\n",
    "- 데이터의 전반적인 패턴과 특이 패턴을 찾는 것\n",
    "- 데이터를 탐색할 때 차트나 대시보드 등을 이용하는 것을 데이터 시각화 or 시각화 애널리틱스라고 함\n",
    "\n",
    ">데이터 탐색에서의 데이터 시각화 \n",
    "- 수치 변수의 경우 히스토그램이나 박스 플롯을 이용해 데이터의 분포를 파악하고 이상치 탐지\n",
    "- 범주형 변수의 경우, 막대그래프 이용\n",
    "- 산점도를 이용해 변수들 간 상관관계를 파악하고 이상치 발견 가능\n",
    "\n",
    "\n",
    "### 7. 데이터 마이닝 수행 단계 \n",
    "(1) 데이터 마이닝 프로젝트의 목적 정확히 설정\n",
    "(2) 분석에 필요한 데이터셋 획득\n",
    "(3) 데이터의 탐색, 정제, 전처리\n",
    "(4) 필요시 데이터 축소\n",
    "(5) 데이터 마이닝 문제 결정 - <분류, 예측, 군집>\n",
    "(6) 데이터 분할하기 ~ 지도학습의 경우에만 해당함\n",
    "(7) 사용할 데이터 마이닝 기법 선택 - 회귀 분석, 인공 신경망, 계층 군집 등\n",
    "(8) 알고리즘 사용해 결과 해석\n",
    "(9) 알고리즘 결과 해석\n",
    "(10)모델 적용"
   ]
  },
  {
   "cell_type": "markdown",
   "metadata": {},
   "source": [
    "## 웨스트 록스베리 지역의 주택 가치 예측\n",
    "데이터셋(WestRoxbury.csv)\n",
    "> https://github.com/reisanar/datasets/blob/master/WestRoxbury.csv\n",
    "> 원데이터(Property Assessment FY2014) https://data.boston.gov/dataset/propertyassessment/resource/7190b0a4-30c4-44c5-911d-c34f60b22181"
   ]
  },
  {
   "cell_type": "markdown",
   "metadata": {},
   "source": []
  },
  {
   "cell_type": "code",
   "execution_count": 1,
   "metadata": {},
   "outputs": [],
   "source": [
    "# 사용할 파이썬 라이브러리 불러오기 \n",
    "import numpy as np\n",
    "import pandas as pd\n",
    "import sklearn as sk\n",
    "from sklearn.model_selection import train_test_split  # 훈련/평가 분할\n",
    "from sklearn.metrics import r2_score # 결정계수 함수 (이 통계 모델로 대상을 얼마나 잘 설명할 수 있는가를 숫자로 나타낸 것이 결정계수이다.)\n",
    "from sklearn.linear_model import LinearRegression #선형 회귀 분석"
   ]
  },
  {
   "cell_type": "code",
   "execution_count": 2,
   "metadata": {
    "scrolled": true
   },
   "outputs": [
    {
     "ename": "FileNotFoundError",
     "evalue": "[Errno 2] No such file or directory: '/Users/shimyuna/Desktop/✳︎/Python-Data-Mining/데이터마이닝 수업 정리/WestRoxbury.csv'",
     "output_type": "error",
     "traceback": [
      "\u001b[0;31m---------------------------------------------------------------------------\u001b[0m",
      "\u001b[0;31mFileNotFoundError\u001b[0m                         Traceback (most recent call last)",
      "Cell \u001b[0;32mIn[2], line 2\u001b[0m\n\u001b[1;32m      1\u001b[0m \u001b[39m#데이터로부터 데이터 셋(자료집합)을 생성하고 불러오는 코드\u001b[39;00m\n\u001b[0;32m----> 2\u001b[0m housing_df\u001b[39m=\u001b[39mpd\u001b[39m.\u001b[39;49mread_csv(\u001b[39m'\u001b[39;49m\u001b[39m/Users/shimyuna/Desktop/✳︎/Python-Data-Mining/데이터마이닝 수업 정리/WestRoxbury.csv\u001b[39;49m\u001b[39m'\u001b[39;49m)\n\u001b[1;32m      3\u001b[0m housing_df\n",
      "File \u001b[0;32m~/opt/anaconda3/lib/python3.9/site-packages/pandas/util/_decorators.py:211\u001b[0m, in \u001b[0;36mdeprecate_kwarg.<locals>._deprecate_kwarg.<locals>.wrapper\u001b[0;34m(*args, **kwargs)\u001b[0m\n\u001b[1;32m    209\u001b[0m     \u001b[39melse\u001b[39;00m:\n\u001b[1;32m    210\u001b[0m         kwargs[new_arg_name] \u001b[39m=\u001b[39m new_arg_value\n\u001b[0;32m--> 211\u001b[0m \u001b[39mreturn\u001b[39;00m func(\u001b[39m*\u001b[39;49margs, \u001b[39m*\u001b[39;49m\u001b[39m*\u001b[39;49mkwargs)\n",
      "File \u001b[0;32m~/opt/anaconda3/lib/python3.9/site-packages/pandas/util/_decorators.py:331\u001b[0m, in \u001b[0;36mdeprecate_nonkeyword_arguments.<locals>.decorate.<locals>.wrapper\u001b[0;34m(*args, **kwargs)\u001b[0m\n\u001b[1;32m    325\u001b[0m \u001b[39mif\u001b[39;00m \u001b[39mlen\u001b[39m(args) \u001b[39m>\u001b[39m num_allow_args:\n\u001b[1;32m    326\u001b[0m     warnings\u001b[39m.\u001b[39mwarn(\n\u001b[1;32m    327\u001b[0m         msg\u001b[39m.\u001b[39mformat(arguments\u001b[39m=\u001b[39m_format_argument_list(allow_args)),\n\u001b[1;32m    328\u001b[0m         \u001b[39mFutureWarning\u001b[39;00m,\n\u001b[1;32m    329\u001b[0m         stacklevel\u001b[39m=\u001b[39mfind_stack_level(),\n\u001b[1;32m    330\u001b[0m     )\n\u001b[0;32m--> 331\u001b[0m \u001b[39mreturn\u001b[39;00m func(\u001b[39m*\u001b[39;49margs, \u001b[39m*\u001b[39;49m\u001b[39m*\u001b[39;49mkwargs)\n",
      "File \u001b[0;32m~/opt/anaconda3/lib/python3.9/site-packages/pandas/io/parsers/readers.py:950\u001b[0m, in \u001b[0;36mread_csv\u001b[0;34m(filepath_or_buffer, sep, delimiter, header, names, index_col, usecols, squeeze, prefix, mangle_dupe_cols, dtype, engine, converters, true_values, false_values, skipinitialspace, skiprows, skipfooter, nrows, na_values, keep_default_na, na_filter, verbose, skip_blank_lines, parse_dates, infer_datetime_format, keep_date_col, date_parser, dayfirst, cache_dates, iterator, chunksize, compression, thousands, decimal, lineterminator, quotechar, quoting, doublequote, escapechar, comment, encoding, encoding_errors, dialect, error_bad_lines, warn_bad_lines, on_bad_lines, delim_whitespace, low_memory, memory_map, float_precision, storage_options)\u001b[0m\n\u001b[1;32m    935\u001b[0m kwds_defaults \u001b[39m=\u001b[39m _refine_defaults_read(\n\u001b[1;32m    936\u001b[0m     dialect,\n\u001b[1;32m    937\u001b[0m     delimiter,\n\u001b[0;32m   (...)\u001b[0m\n\u001b[1;32m    946\u001b[0m     defaults\u001b[39m=\u001b[39m{\u001b[39m\"\u001b[39m\u001b[39mdelimiter\u001b[39m\u001b[39m\"\u001b[39m: \u001b[39m\"\u001b[39m\u001b[39m,\u001b[39m\u001b[39m\"\u001b[39m},\n\u001b[1;32m    947\u001b[0m )\n\u001b[1;32m    948\u001b[0m kwds\u001b[39m.\u001b[39mupdate(kwds_defaults)\n\u001b[0;32m--> 950\u001b[0m \u001b[39mreturn\u001b[39;00m _read(filepath_or_buffer, kwds)\n",
      "File \u001b[0;32m~/opt/anaconda3/lib/python3.9/site-packages/pandas/io/parsers/readers.py:605\u001b[0m, in \u001b[0;36m_read\u001b[0;34m(filepath_or_buffer, kwds)\u001b[0m\n\u001b[1;32m    602\u001b[0m _validate_names(kwds\u001b[39m.\u001b[39mget(\u001b[39m\"\u001b[39m\u001b[39mnames\u001b[39m\u001b[39m\"\u001b[39m, \u001b[39mNone\u001b[39;00m))\n\u001b[1;32m    604\u001b[0m \u001b[39m# Create the parser.\u001b[39;00m\n\u001b[0;32m--> 605\u001b[0m parser \u001b[39m=\u001b[39m TextFileReader(filepath_or_buffer, \u001b[39m*\u001b[39;49m\u001b[39m*\u001b[39;49mkwds)\n\u001b[1;32m    607\u001b[0m \u001b[39mif\u001b[39;00m chunksize \u001b[39mor\u001b[39;00m iterator:\n\u001b[1;32m    608\u001b[0m     \u001b[39mreturn\u001b[39;00m parser\n",
      "File \u001b[0;32m~/opt/anaconda3/lib/python3.9/site-packages/pandas/io/parsers/readers.py:1442\u001b[0m, in \u001b[0;36mTextFileReader.__init__\u001b[0;34m(self, f, engine, **kwds)\u001b[0m\n\u001b[1;32m   1439\u001b[0m     \u001b[39mself\u001b[39m\u001b[39m.\u001b[39moptions[\u001b[39m\"\u001b[39m\u001b[39mhas_index_names\u001b[39m\u001b[39m\"\u001b[39m] \u001b[39m=\u001b[39m kwds[\u001b[39m\"\u001b[39m\u001b[39mhas_index_names\u001b[39m\u001b[39m\"\u001b[39m]\n\u001b[1;32m   1441\u001b[0m \u001b[39mself\u001b[39m\u001b[39m.\u001b[39mhandles: IOHandles \u001b[39m|\u001b[39m \u001b[39mNone\u001b[39;00m \u001b[39m=\u001b[39m \u001b[39mNone\u001b[39;00m\n\u001b[0;32m-> 1442\u001b[0m \u001b[39mself\u001b[39m\u001b[39m.\u001b[39m_engine \u001b[39m=\u001b[39m \u001b[39mself\u001b[39;49m\u001b[39m.\u001b[39;49m_make_engine(f, \u001b[39mself\u001b[39;49m\u001b[39m.\u001b[39;49mengine)\n",
      "File \u001b[0;32m~/opt/anaconda3/lib/python3.9/site-packages/pandas/io/parsers/readers.py:1735\u001b[0m, in \u001b[0;36mTextFileReader._make_engine\u001b[0;34m(self, f, engine)\u001b[0m\n\u001b[1;32m   1733\u001b[0m     \u001b[39mif\u001b[39;00m \u001b[39m\"\u001b[39m\u001b[39mb\u001b[39m\u001b[39m\"\u001b[39m \u001b[39mnot\u001b[39;00m \u001b[39min\u001b[39;00m mode:\n\u001b[1;32m   1734\u001b[0m         mode \u001b[39m+\u001b[39m\u001b[39m=\u001b[39m \u001b[39m\"\u001b[39m\u001b[39mb\u001b[39m\u001b[39m\"\u001b[39m\n\u001b[0;32m-> 1735\u001b[0m \u001b[39mself\u001b[39m\u001b[39m.\u001b[39mhandles \u001b[39m=\u001b[39m get_handle(\n\u001b[1;32m   1736\u001b[0m     f,\n\u001b[1;32m   1737\u001b[0m     mode,\n\u001b[1;32m   1738\u001b[0m     encoding\u001b[39m=\u001b[39;49m\u001b[39mself\u001b[39;49m\u001b[39m.\u001b[39;49moptions\u001b[39m.\u001b[39;49mget(\u001b[39m\"\u001b[39;49m\u001b[39mencoding\u001b[39;49m\u001b[39m\"\u001b[39;49m, \u001b[39mNone\u001b[39;49;00m),\n\u001b[1;32m   1739\u001b[0m     compression\u001b[39m=\u001b[39;49m\u001b[39mself\u001b[39;49m\u001b[39m.\u001b[39;49moptions\u001b[39m.\u001b[39;49mget(\u001b[39m\"\u001b[39;49m\u001b[39mcompression\u001b[39;49m\u001b[39m\"\u001b[39;49m, \u001b[39mNone\u001b[39;49;00m),\n\u001b[1;32m   1740\u001b[0m     memory_map\u001b[39m=\u001b[39;49m\u001b[39mself\u001b[39;49m\u001b[39m.\u001b[39;49moptions\u001b[39m.\u001b[39;49mget(\u001b[39m\"\u001b[39;49m\u001b[39mmemory_map\u001b[39;49m\u001b[39m\"\u001b[39;49m, \u001b[39mFalse\u001b[39;49;00m),\n\u001b[1;32m   1741\u001b[0m     is_text\u001b[39m=\u001b[39;49mis_text,\n\u001b[1;32m   1742\u001b[0m     errors\u001b[39m=\u001b[39;49m\u001b[39mself\u001b[39;49m\u001b[39m.\u001b[39;49moptions\u001b[39m.\u001b[39;49mget(\u001b[39m\"\u001b[39;49m\u001b[39mencoding_errors\u001b[39;49m\u001b[39m\"\u001b[39;49m, \u001b[39m\"\u001b[39;49m\u001b[39mstrict\u001b[39;49m\u001b[39m\"\u001b[39;49m),\n\u001b[1;32m   1743\u001b[0m     storage_options\u001b[39m=\u001b[39;49m\u001b[39mself\u001b[39;49m\u001b[39m.\u001b[39;49moptions\u001b[39m.\u001b[39;49mget(\u001b[39m\"\u001b[39;49m\u001b[39mstorage_options\u001b[39;49m\u001b[39m\"\u001b[39;49m, \u001b[39mNone\u001b[39;49;00m),\n\u001b[1;32m   1744\u001b[0m )\n\u001b[1;32m   1745\u001b[0m \u001b[39massert\u001b[39;00m \u001b[39mself\u001b[39m\u001b[39m.\u001b[39mhandles \u001b[39mis\u001b[39;00m \u001b[39mnot\u001b[39;00m \u001b[39mNone\u001b[39;00m\n\u001b[1;32m   1746\u001b[0m f \u001b[39m=\u001b[39m \u001b[39mself\u001b[39m\u001b[39m.\u001b[39mhandles\u001b[39m.\u001b[39mhandle\n",
      "File \u001b[0;32m~/opt/anaconda3/lib/python3.9/site-packages/pandas/io/common.py:856\u001b[0m, in \u001b[0;36mget_handle\u001b[0;34m(path_or_buf, mode, encoding, compression, memory_map, is_text, errors, storage_options)\u001b[0m\n\u001b[1;32m    851\u001b[0m \u001b[39melif\u001b[39;00m \u001b[39misinstance\u001b[39m(handle, \u001b[39mstr\u001b[39m):\n\u001b[1;32m    852\u001b[0m     \u001b[39m# Check whether the filename is to be opened in binary mode.\u001b[39;00m\n\u001b[1;32m    853\u001b[0m     \u001b[39m# Binary mode does not support 'encoding' and 'newline'.\u001b[39;00m\n\u001b[1;32m    854\u001b[0m     \u001b[39mif\u001b[39;00m ioargs\u001b[39m.\u001b[39mencoding \u001b[39mand\u001b[39;00m \u001b[39m\"\u001b[39m\u001b[39mb\u001b[39m\u001b[39m\"\u001b[39m \u001b[39mnot\u001b[39;00m \u001b[39min\u001b[39;00m ioargs\u001b[39m.\u001b[39mmode:\n\u001b[1;32m    855\u001b[0m         \u001b[39m# Encoding\u001b[39;00m\n\u001b[0;32m--> 856\u001b[0m         handle \u001b[39m=\u001b[39m \u001b[39mopen\u001b[39;49m(\n\u001b[1;32m    857\u001b[0m             handle,\n\u001b[1;32m    858\u001b[0m             ioargs\u001b[39m.\u001b[39;49mmode,\n\u001b[1;32m    859\u001b[0m             encoding\u001b[39m=\u001b[39;49mioargs\u001b[39m.\u001b[39;49mencoding,\n\u001b[1;32m    860\u001b[0m             errors\u001b[39m=\u001b[39;49merrors,\n\u001b[1;32m    861\u001b[0m             newline\u001b[39m=\u001b[39;49m\u001b[39m\"\u001b[39;49m\u001b[39m\"\u001b[39;49m,\n\u001b[1;32m    862\u001b[0m         )\n\u001b[1;32m    863\u001b[0m     \u001b[39melse\u001b[39;00m:\n\u001b[1;32m    864\u001b[0m         \u001b[39m# Binary mode\u001b[39;00m\n\u001b[1;32m    865\u001b[0m         handle \u001b[39m=\u001b[39m \u001b[39mopen\u001b[39m(handle, ioargs\u001b[39m.\u001b[39mmode)\n",
      "\u001b[0;31mFileNotFoundError\u001b[0m: [Errno 2] No such file or directory: '/Users/shimyuna/Desktop/✳︎/Python-Data-Mining/데이터마이닝 수업 정리/WestRoxbury.csv'"
     ]
    }
   ],
   "source": [
    "#데이터로부터 데이터 셋(자료집합)을 생성하고 불러오는 코드\n",
    "housing_df=pd.read_csv('/Users/shimyuna/Desktop/✳︎/Python-Data-Mining/datamining/WestRoxbury.csv')\n",
    "housing_df"
   ]
  },
  {
   "cell_type": "code",
   "execution_count": null,
   "metadata": {},
   "outputs": [
    {
     "data": {
      "text/plain": [
       "(5802, 14)"
      ]
     },
     "execution_count": 3,
     "metadata": {},
     "output_type": "execute_result"
    }
   ],
   "source": [
    "#데이터 프레임의 차원 확인\n",
    "housing_df.shape"
   ]
  },
  {
   "cell_type": "code",
   "execution_count": null,
   "metadata": {
    "scrolled": true
   },
   "outputs": [
    {
     "data": {
      "text/html": [
       "<div>\n",
       "<style scoped>\n",
       "    .dataframe tbody tr th:only-of-type {\n",
       "        vertical-align: middle;\n",
       "    }\n",
       "\n",
       "    .dataframe tbody tr th {\n",
       "        vertical-align: top;\n",
       "    }\n",
       "\n",
       "    .dataframe thead th {\n",
       "        text-align: right;\n",
       "    }\n",
       "</style>\n",
       "<table border=\"1\" class=\"dataframe\">\n",
       "  <thead>\n",
       "    <tr style=\"text-align: right;\">\n",
       "      <th></th>\n",
       "      <th>TOTAL VALUE</th>\n",
       "      <th>TAX</th>\n",
       "      <th>LOT SQFT</th>\n",
       "      <th>YR BUILT</th>\n",
       "      <th>GROSS AREA</th>\n",
       "      <th>LIVING AREA</th>\n",
       "      <th>FLOORS</th>\n",
       "      <th>ROOMS</th>\n",
       "      <th>BEDROOMS</th>\n",
       "      <th>FULL BATH</th>\n",
       "      <th>HALF BATH</th>\n",
       "      <th>KITCHEN</th>\n",
       "      <th>FIREPLACE</th>\n",
       "      <th>REMODEL</th>\n",
       "    </tr>\n",
       "  </thead>\n",
       "  <tbody>\n",
       "    <tr>\n",
       "      <th>0</th>\n",
       "      <td>344.2</td>\n",
       "      <td>4330</td>\n",
       "      <td>9965</td>\n",
       "      <td>1880</td>\n",
       "      <td>2436</td>\n",
       "      <td>1352</td>\n",
       "      <td>2.0</td>\n",
       "      <td>6</td>\n",
       "      <td>3</td>\n",
       "      <td>1</td>\n",
       "      <td>1</td>\n",
       "      <td>1</td>\n",
       "      <td>0</td>\n",
       "      <td>None</td>\n",
       "    </tr>\n",
       "    <tr>\n",
       "      <th>1</th>\n",
       "      <td>412.6</td>\n",
       "      <td>5190</td>\n",
       "      <td>6590</td>\n",
       "      <td>1945</td>\n",
       "      <td>3108</td>\n",
       "      <td>1976</td>\n",
       "      <td>2.0</td>\n",
       "      <td>10</td>\n",
       "      <td>4</td>\n",
       "      <td>2</td>\n",
       "      <td>1</td>\n",
       "      <td>1</td>\n",
       "      <td>0</td>\n",
       "      <td>Recent</td>\n",
       "    </tr>\n",
       "    <tr>\n",
       "      <th>2</th>\n",
       "      <td>330.1</td>\n",
       "      <td>4152</td>\n",
       "      <td>7500</td>\n",
       "      <td>1890</td>\n",
       "      <td>2294</td>\n",
       "      <td>1371</td>\n",
       "      <td>2.0</td>\n",
       "      <td>8</td>\n",
       "      <td>4</td>\n",
       "      <td>1</td>\n",
       "      <td>1</td>\n",
       "      <td>1</td>\n",
       "      <td>0</td>\n",
       "      <td>None</td>\n",
       "    </tr>\n",
       "    <tr>\n",
       "      <th>3</th>\n",
       "      <td>498.6</td>\n",
       "      <td>6272</td>\n",
       "      <td>13773</td>\n",
       "      <td>1957</td>\n",
       "      <td>5032</td>\n",
       "      <td>2608</td>\n",
       "      <td>1.0</td>\n",
       "      <td>9</td>\n",
       "      <td>5</td>\n",
       "      <td>1</td>\n",
       "      <td>1</td>\n",
       "      <td>1</td>\n",
       "      <td>1</td>\n",
       "      <td>None</td>\n",
       "    </tr>\n",
       "    <tr>\n",
       "      <th>4</th>\n",
       "      <td>331.5</td>\n",
       "      <td>4170</td>\n",
       "      <td>5000</td>\n",
       "      <td>1910</td>\n",
       "      <td>2370</td>\n",
       "      <td>1438</td>\n",
       "      <td>2.0</td>\n",
       "      <td>7</td>\n",
       "      <td>3</td>\n",
       "      <td>2</td>\n",
       "      <td>0</td>\n",
       "      <td>1</td>\n",
       "      <td>0</td>\n",
       "      <td>None</td>\n",
       "    </tr>\n",
       "    <tr>\n",
       "      <th>5</th>\n",
       "      <td>337.4</td>\n",
       "      <td>4244</td>\n",
       "      <td>5142</td>\n",
       "      <td>1950</td>\n",
       "      <td>2124</td>\n",
       "      <td>1060</td>\n",
       "      <td>1.0</td>\n",
       "      <td>6</td>\n",
       "      <td>3</td>\n",
       "      <td>1</td>\n",
       "      <td>0</td>\n",
       "      <td>1</td>\n",
       "      <td>1</td>\n",
       "      <td>Old</td>\n",
       "    </tr>\n",
       "    <tr>\n",
       "      <th>6</th>\n",
       "      <td>359.4</td>\n",
       "      <td>4521</td>\n",
       "      <td>5000</td>\n",
       "      <td>1954</td>\n",
       "      <td>3220</td>\n",
       "      <td>1916</td>\n",
       "      <td>2.0</td>\n",
       "      <td>7</td>\n",
       "      <td>3</td>\n",
       "      <td>1</td>\n",
       "      <td>1</td>\n",
       "      <td>1</td>\n",
       "      <td>0</td>\n",
       "      <td>None</td>\n",
       "    </tr>\n",
       "    <tr>\n",
       "      <th>7</th>\n",
       "      <td>320.4</td>\n",
       "      <td>4030</td>\n",
       "      <td>10000</td>\n",
       "      <td>1950</td>\n",
       "      <td>2208</td>\n",
       "      <td>1200</td>\n",
       "      <td>1.0</td>\n",
       "      <td>6</td>\n",
       "      <td>3</td>\n",
       "      <td>1</td>\n",
       "      <td>0</td>\n",
       "      <td>1</td>\n",
       "      <td>0</td>\n",
       "      <td>None</td>\n",
       "    </tr>\n",
       "    <tr>\n",
       "      <th>8</th>\n",
       "      <td>333.5</td>\n",
       "      <td>4195</td>\n",
       "      <td>6835</td>\n",
       "      <td>1958</td>\n",
       "      <td>2582</td>\n",
       "      <td>1092</td>\n",
       "      <td>1.0</td>\n",
       "      <td>5</td>\n",
       "      <td>3</td>\n",
       "      <td>1</td>\n",
       "      <td>0</td>\n",
       "      <td>1</td>\n",
       "      <td>1</td>\n",
       "      <td>Recent</td>\n",
       "    </tr>\n",
       "    <tr>\n",
       "      <th>9</th>\n",
       "      <td>409.4</td>\n",
       "      <td>5150</td>\n",
       "      <td>5093</td>\n",
       "      <td>1900</td>\n",
       "      <td>4818</td>\n",
       "      <td>2992</td>\n",
       "      <td>2.0</td>\n",
       "      <td>8</td>\n",
       "      <td>4</td>\n",
       "      <td>2</td>\n",
       "      <td>0</td>\n",
       "      <td>1</td>\n",
       "      <td>0</td>\n",
       "      <td>None</td>\n",
       "    </tr>\n",
       "  </tbody>\n",
       "</table>\n",
       "</div>"
      ],
      "text/plain": [
       "   TOTAL VALUE    TAX  LOT SQFT   YR BUILT  GROSS AREA   LIVING AREA  FLOORS   \\\n",
       "0         344.2  4330       9965      1880         2436         1352      2.0   \n",
       "1         412.6  5190       6590      1945         3108         1976      2.0   \n",
       "2         330.1  4152       7500      1890         2294         1371      2.0   \n",
       "3         498.6  6272      13773      1957         5032         2608      1.0   \n",
       "4         331.5  4170       5000      1910         2370         1438      2.0   \n",
       "5         337.4  4244       5142      1950         2124         1060      1.0   \n",
       "6         359.4  4521       5000      1954         3220         1916      2.0   \n",
       "7         320.4  4030      10000      1950         2208         1200      1.0   \n",
       "8         333.5  4195       6835      1958         2582         1092      1.0   \n",
       "9         409.4  5150       5093      1900         4818         2992      2.0   \n",
       "\n",
       "   ROOMS  BEDROOMS   FULL BATH  HALF BATH  KITCHEN  FIREPLACE REMODEL  \n",
       "0      6          3          1          1        1          0    None  \n",
       "1     10          4          2          1        1          0  Recent  \n",
       "2      8          4          1          1        1          0    None  \n",
       "3      9          5          1          1        1          1    None  \n",
       "4      7          3          2          0        1          0    None  \n",
       "5      6          3          1          0        1          1     Old  \n",
       "6      7          3          1          1        1          0    None  \n",
       "7      6          3          1          0        1          0    None  \n",
       "8      5          3          1          0        1          1  Recent  \n",
       "9      8          4          2          0        1          0    None  "
      ]
     },
     "execution_count": 4,
     "metadata": {},
     "output_type": "execute_result"
    }
   ],
   "source": [
    "# 데이터의 일부분 중, 상단 부분만 출력하여 보여줌\n",
    "housing_df.head(10)"
   ]
  },
  {
   "cell_type": "code",
   "execution_count": null,
   "metadata": {},
   "outputs": [
    {
     "data": {
      "text/plain": [
       "Index(['TOTAL_VALUE', 'TAX', 'LOT SQFT ', 'YR BUILT', 'GROSS AREA ',\n",
       "       'LIVING AREA', 'FLOORS ', 'ROOMS', 'BEDROOMS ', 'FULL BATH',\n",
       "       'HALF BATH', 'KITCHEN', 'FIREPLACE', 'REMODEL'],\n",
       "      dtype='object')"
      ]
     },
     "execution_count": 5,
     "metadata": {},
     "output_type": "execute_result"
    }
   ],
   "source": [
    "housing_df = housing_df.rename(columns={'TOTAL VALUE ' : 'TOTAL_VALUE'})\n",
    "## housing_df = housing_df.rename(columns={'TOTAL VALUE ' : 'TOTAL_VALUE'}, inplace=True)와 같이 할 경우,원본데이터를 덮어씌울지를 물어보는 것이다.\n",
    "housing_df.columns"
   ]
  },
  {
   "attachments": {},
   "cell_type": "markdown",
   "metadata": {},
   "source": [
    ">rename 메서드 : Data Frame의 칼럼 &인덱스 이름 바꾸기\n",
    "\n",
    "(1) pandas DataFrame의 칼럼 이름 바꾸기\n",
    "    : df.columns = ['a', 'b']\n",
    "    : df.rename(columns = {'old_nm' : 'new_nm'}, inplace = True)\n",
    "    \n",
    "(2) pandas DataFrame의 인덱스 이름 바꾸기\n",
    "    : df.index = ['a', 'b']\n",
    "    : df.rename(index = {'old_nm': 'new_nm'}, inplace = True)"
   ]
  },
  {
   "cell_type": "code",
   "execution_count": null,
   "metadata": {},
   "outputs": [
    {
     "data": {
      "text/plain": [
       "Index(['TOTAL_VALUE', 'TAX', 'LOT_SQFT', 'YR_BUILT', 'GROSS_AREA',\n",
       "       'LIVING_AREA', 'FLOORS', 'ROOMS', 'BEDROOMS', 'FULL_BATH', 'HALF_BATH',\n",
       "       'KITCHEN', 'FIREPLACE', 'REMODEL'],\n",
       "      dtype='object')"
      ]
     },
     "execution_count": 6,
     "metadata": {},
     "output_type": "execute_result"
    }
   ],
   "source": [
    "housing_df.columns = [s.strip().replace(' ','_') for s in housing_df.columns]\n",
    "housing_df.columns"
   ]
  },
  {
   "attachments": {},
   "cell_type": "markdown",
   "metadata": {},
   "source": [
    ">함수정리 \n",
    "- trip()함수\n",
    "    - 제거할 문자가 지정되지 않은 경우 시작과 끝에서 공백이 제거된 원래 문자열입니다.\n",
    "    - 문자열의 시작 또는 끝에 공백이 없는 경우 문자열을 있는 그대로 반환하고 원래 문자열과 일치시킵니다.\n",
    "    - 문자 매개변수가 제공되고 문자가 일치하면 문자열의 시작 또는 끝에 있는 문자가 원래 문자열에서 제거되고 나머지 문자열이 반환됩니다.\n",
    "    - 주어진 문자가 원래 문자열의 시작 또는 끝과 일치하지 않는 경우 문자열을 있는 그대로 반환합니다.\n",
    "    https://www.entity.co.kr/entry/Python-String-strip-%ED%95%A8%EC%88%98-strip-%ED%95%A8%EC%88%98%EC%9D%98-%EC%A0%95%EC%9D%98\n",
    "\n",
    "- replace()함수\n",
    "    - replace(old, new, [count]) -> replace(\"찾을값\", \"바꿀값\", [바꿀횟수])"
   ]
  },
  {
   "cell_type": "code",
   "execution_count": null,
   "metadata": {},
   "outputs": [
    {
     "data": {
      "text/html": [
       "<div>\n",
       "<style scoped>\n",
       "    .dataframe tbody tr th:only-of-type {\n",
       "        vertical-align: middle;\n",
       "    }\n",
       "\n",
       "    .dataframe tbody tr th {\n",
       "        vertical-align: top;\n",
       "    }\n",
       "\n",
       "    .dataframe thead th {\n",
       "        text-align: right;\n",
       "    }\n",
       "</style>\n",
       "<table border=\"1\" class=\"dataframe\">\n",
       "  <thead>\n",
       "    <tr style=\"text-align: right;\">\n",
       "      <th></th>\n",
       "      <th>TOTAL_VALUE</th>\n",
       "      <th>TAX</th>\n",
       "      <th>LOT_SQFT</th>\n",
       "      <th>YR_BUILT</th>\n",
       "      <th>GROSS_AREA</th>\n",
       "      <th>LIVING_AREA</th>\n",
       "      <th>FLOORS</th>\n",
       "      <th>ROOMS</th>\n",
       "      <th>BEDROOMS</th>\n",
       "      <th>FULL_BATH</th>\n",
       "      <th>HALF_BATH</th>\n",
       "      <th>KITCHEN</th>\n",
       "      <th>FIREPLACE</th>\n",
       "      <th>REMODEL</th>\n",
       "    </tr>\n",
       "  </thead>\n",
       "  <tbody>\n",
       "    <tr>\n",
       "      <th>0</th>\n",
       "      <td>344.2</td>\n",
       "      <td>4330</td>\n",
       "      <td>9965</td>\n",
       "      <td>1880</td>\n",
       "      <td>2436</td>\n",
       "      <td>1352</td>\n",
       "      <td>2.0</td>\n",
       "      <td>6</td>\n",
       "      <td>3</td>\n",
       "      <td>1</td>\n",
       "      <td>1</td>\n",
       "      <td>1</td>\n",
       "      <td>0</td>\n",
       "      <td>None</td>\n",
       "    </tr>\n",
       "    <tr>\n",
       "      <th>1</th>\n",
       "      <td>412.6</td>\n",
       "      <td>5190</td>\n",
       "      <td>6590</td>\n",
       "      <td>1945</td>\n",
       "      <td>3108</td>\n",
       "      <td>1976</td>\n",
       "      <td>2.0</td>\n",
       "      <td>10</td>\n",
       "      <td>4</td>\n",
       "      <td>2</td>\n",
       "      <td>1</td>\n",
       "      <td>1</td>\n",
       "      <td>0</td>\n",
       "      <td>Recent</td>\n",
       "    </tr>\n",
       "    <tr>\n",
       "      <th>2</th>\n",
       "      <td>330.1</td>\n",
       "      <td>4152</td>\n",
       "      <td>7500</td>\n",
       "      <td>1890</td>\n",
       "      <td>2294</td>\n",
       "      <td>1371</td>\n",
       "      <td>2.0</td>\n",
       "      <td>8</td>\n",
       "      <td>4</td>\n",
       "      <td>1</td>\n",
       "      <td>1</td>\n",
       "      <td>1</td>\n",
       "      <td>0</td>\n",
       "      <td>None</td>\n",
       "    </tr>\n",
       "    <tr>\n",
       "      <th>3</th>\n",
       "      <td>498.6</td>\n",
       "      <td>6272</td>\n",
       "      <td>13773</td>\n",
       "      <td>1957</td>\n",
       "      <td>5032</td>\n",
       "      <td>2608</td>\n",
       "      <td>1.0</td>\n",
       "      <td>9</td>\n",
       "      <td>5</td>\n",
       "      <td>1</td>\n",
       "      <td>1</td>\n",
       "      <td>1</td>\n",
       "      <td>1</td>\n",
       "      <td>None</td>\n",
       "    </tr>\n",
       "  </tbody>\n",
       "</table>\n",
       "</div>"
      ],
      "text/plain": [
       "   TOTAL_VALUE   TAX  LOT_SQFT  YR_BUILT  GROSS_AREA  LIVING_AREA  FLOORS  \\\n",
       "0        344.2  4330      9965      1880        2436         1352     2.0   \n",
       "1        412.6  5190      6590      1945        3108         1976     2.0   \n",
       "2        330.1  4152      7500      1890        2294         1371     2.0   \n",
       "3        498.6  6272     13773      1957        5032         2608     1.0   \n",
       "\n",
       "   ROOMS  BEDROOMS  FULL_BATH  HALF_BATH  KITCHEN  FIREPLACE REMODEL  \n",
       "0      6         3          1          1        1          0    None  \n",
       "1     10         4          2          1        1          0  Recent  \n",
       "2      8         4          1          1        1          0    None  \n",
       "3      9         5          1          1        1          1    None  "
      ]
     },
     "execution_count": 7,
     "metadata": {},
     "output_type": "execute_result"
    }
   ],
   "source": [
    "# 데이터 표시 연습\n",
    "housing_df.loc[0:3] "
   ]
  },
  {
   "cell_type": "code",
   "execution_count": null,
   "metadata": {},
   "outputs": [
    {
     "data": {
      "text/html": [
       "<div>\n",
       "<style scoped>\n",
       "    .dataframe tbody tr th:only-of-type {\n",
       "        vertical-align: middle;\n",
       "    }\n",
       "\n",
       "    .dataframe tbody tr th {\n",
       "        vertical-align: top;\n",
       "    }\n",
       "\n",
       "    .dataframe thead th {\n",
       "        text-align: right;\n",
       "    }\n",
       "</style>\n",
       "<table border=\"1\" class=\"dataframe\">\n",
       "  <thead>\n",
       "    <tr style=\"text-align: right;\">\n",
       "      <th></th>\n",
       "      <th>TOTAL_VALUE</th>\n",
       "      <th>TAX</th>\n",
       "      <th>LOT_SQFT</th>\n",
       "      <th>YR_BUILT</th>\n",
       "      <th>GROSS_AREA</th>\n",
       "      <th>LIVING_AREA</th>\n",
       "      <th>FLOORS</th>\n",
       "      <th>ROOMS</th>\n",
       "      <th>BEDROOMS</th>\n",
       "      <th>FULL_BATH</th>\n",
       "      <th>HALF_BATH</th>\n",
       "      <th>KITCHEN</th>\n",
       "      <th>FIREPLACE</th>\n",
       "      <th>REMODEL</th>\n",
       "    </tr>\n",
       "  </thead>\n",
       "  <tbody>\n",
       "    <tr>\n",
       "      <th>0</th>\n",
       "      <td>344.2</td>\n",
       "      <td>4330</td>\n",
       "      <td>9965</td>\n",
       "      <td>1880</td>\n",
       "      <td>2436</td>\n",
       "      <td>1352</td>\n",
       "      <td>2.0</td>\n",
       "      <td>6</td>\n",
       "      <td>3</td>\n",
       "      <td>1</td>\n",
       "      <td>1</td>\n",
       "      <td>1</td>\n",
       "      <td>0</td>\n",
       "      <td>None</td>\n",
       "    </tr>\n",
       "    <tr>\n",
       "      <th>1</th>\n",
       "      <td>412.6</td>\n",
       "      <td>5190</td>\n",
       "      <td>6590</td>\n",
       "      <td>1945</td>\n",
       "      <td>3108</td>\n",
       "      <td>1976</td>\n",
       "      <td>2.0</td>\n",
       "      <td>10</td>\n",
       "      <td>4</td>\n",
       "      <td>2</td>\n",
       "      <td>1</td>\n",
       "      <td>1</td>\n",
       "      <td>0</td>\n",
       "      <td>Recent</td>\n",
       "    </tr>\n",
       "    <tr>\n",
       "      <th>2</th>\n",
       "      <td>330.1</td>\n",
       "      <td>4152</td>\n",
       "      <td>7500</td>\n",
       "      <td>1890</td>\n",
       "      <td>2294</td>\n",
       "      <td>1371</td>\n",
       "      <td>2.0</td>\n",
       "      <td>8</td>\n",
       "      <td>4</td>\n",
       "      <td>1</td>\n",
       "      <td>1</td>\n",
       "      <td>1</td>\n",
       "      <td>0</td>\n",
       "      <td>None</td>\n",
       "    </tr>\n",
       "    <tr>\n",
       "      <th>3</th>\n",
       "      <td>498.6</td>\n",
       "      <td>6272</td>\n",
       "      <td>13773</td>\n",
       "      <td>1957</td>\n",
       "      <td>5032</td>\n",
       "      <td>2608</td>\n",
       "      <td>1.0</td>\n",
       "      <td>9</td>\n",
       "      <td>5</td>\n",
       "      <td>1</td>\n",
       "      <td>1</td>\n",
       "      <td>1</td>\n",
       "      <td>1</td>\n",
       "      <td>None</td>\n",
       "    </tr>\n",
       "  </tbody>\n",
       "</table>\n",
       "</div>"
      ],
      "text/plain": [
       "   TOTAL_VALUE   TAX  LOT_SQFT  YR_BUILT  GROSS_AREA  LIVING_AREA  FLOORS  \\\n",
       "0        344.2  4330      9965      1880        2436         1352     2.0   \n",
       "1        412.6  5190      6590      1945        3108         1976     2.0   \n",
       "2        330.1  4152      7500      1890        2294         1371     2.0   \n",
       "3        498.6  6272     13773      1957        5032         2608     1.0   \n",
       "\n",
       "   ROOMS  BEDROOMS  FULL_BATH  HALF_BATH  KITCHEN  FIREPLACE REMODEL  \n",
       "0      6         3          1          1        1          0    None  \n",
       "1     10         4          2          1        1          0  Recent  \n",
       "2      8         4          1          1        1          0    None  \n",
       "3      9         5          1          1        1          1    None  "
      ]
     },
     "execution_count": 8,
     "metadata": {},
     "output_type": "execute_result"
    }
   ],
   "source": [
    "housing_df.iloc[0:4]\n",
    "######## 이부분 왜 다른지 질문하기"
   ]
  },
  {
   "attachments": {},
   "cell_type": "markdown",
   "metadata": {},
   "source": [
    ">데이터를 행단위로 가져오는 함수 loc, iloc\n",
    "\n",
    "- loc[ ]함수\n",
    "    -  라벨과 인덱스를 기준으로 행(row,가로) 데이터를 읽기\n",
    "    -  만약 특정 행의 컬럼에 있는 값을 출력하기 원하는 경우, df.loc[행, 컬럼명]\n",
    "\n",
    "- iloc[ ]함수\n",
    "    - 행 번호를 기준으로 행의 데이터 읽기 \n",
    "    - df.loc[]이 라벨을 사용한다면 df.iloc[]은 각 행렬의 순번을 사용하는 차이\n",
    "    - [0:4]로치면 4-1(n-1)으로 마지막 값이 포함되지 않는 것이 차이"
   ]
  },
  {
   "cell_type": "code",
   "execution_count": null,
   "metadata": {},
   "outputs": [
    {
     "data": {
      "text/plain": [
       "0    344.2\n",
       "1    412.6\n",
       "2    330.1\n",
       "3    498.6\n",
       "4    331.5\n",
       "5    337.4\n",
       "6    359.4\n",
       "7    320.4\n",
       "8    333.5\n",
       "9    409.4\n",
       "Name: TOTAL_VALUE, dtype: float64"
      ]
     },
     "execution_count": 9,
     "metadata": {},
     "output_type": "execute_result"
    }
   ],
   "source": [
    "# TOTAL_VALUE 열의 처음 10개 값을 표시하는 다양한 방법\n",
    "\n",
    "## 순서가 상관없다.\n",
    "housing_df['TOTAL_VALUE'].iloc[0:10]\n",
    "    ## 'TOTAL_VALUE'파라\n",
    "housing_df.iloc[0:10]['TOTAL_VALUE']\n",
    "\n",
    "# 컬럼(열) 이름에 공백이 없는 경우 []방식이 아니라 점표기법을 사용할 수 있다.\n",
    "housing_df.iloc[0:10].TOTAL_VALUE"
   ]
  },
  {
   "cell_type": "code",
   "execution_count": null,
   "metadata": {},
   "outputs": [
    {
     "data": {
      "text/plain": [
       "TOTAL_VALUE    331.5\n",
       "TAX             4170\n",
       "LOT_SQFT        5000\n",
       "YR_BUILT        1910\n",
       "GROSS_AREA      2370\n",
       "LIVING_AREA     1438\n",
       "FLOORS           2.0\n",
       "ROOMS              7\n",
       "BEDROOMS           3\n",
       "FULL_BATH          2\n",
       "Name: 4, dtype: object"
      ]
     },
     "execution_count": 10,
     "metadata": {},
     "output_type": "execute_result"
    }
   ],
   "source": [
    "# 처음 10개 열의 다섯 번째 행을 표시 \n",
    "housing_df.iloc[4][0:10]\n",
    "housing_df.iloc[4, 0:10]"
   ]
  },
  {
   "cell_type": "code",
   "execution_count": null,
   "metadata": {},
   "outputs": [
    {
     "data": {
      "text/html": [
       "<div>\n",
       "<style scoped>\n",
       "    .dataframe tbody tr th:only-of-type {\n",
       "        vertical-align: middle;\n",
       "    }\n",
       "\n",
       "    .dataframe tbody tr th {\n",
       "        vertical-align: top;\n",
       "    }\n",
       "\n",
       "    .dataframe thead th {\n",
       "        text-align: right;\n",
       "    }\n",
       "</style>\n",
       "<table border=\"1\" class=\"dataframe\">\n",
       "  <thead>\n",
       "    <tr style=\"text-align: right;\">\n",
       "      <th></th>\n",
       "      <th>TOTAL_VALUE</th>\n",
       "      <th>TAX</th>\n",
       "      <th>LOT_SQFT</th>\n",
       "      <th>YR_BUILT</th>\n",
       "      <th>GROSS_AREA</th>\n",
       "      <th>LIVING_AREA</th>\n",
       "      <th>FLOORS</th>\n",
       "      <th>ROOMS</th>\n",
       "      <th>BEDROOMS</th>\n",
       "      <th>FULL_BATH</th>\n",
       "    </tr>\n",
       "  </thead>\n",
       "  <tbody>\n",
       "    <tr>\n",
       "      <th>4</th>\n",
       "      <td>331.5</td>\n",
       "      <td>4170</td>\n",
       "      <td>5000</td>\n",
       "      <td>1910</td>\n",
       "      <td>2370</td>\n",
       "      <td>1438</td>\n",
       "      <td>2.0</td>\n",
       "      <td>7</td>\n",
       "      <td>3</td>\n",
       "      <td>2</td>\n",
       "    </tr>\n",
       "  </tbody>\n",
       "</table>\n",
       "</div>"
      ],
      "text/plain": [
       "   TOTAL_VALUE   TAX  LOT_SQFT  YR_BUILT  GROSS_AREA  LIVING_AREA  FLOORS  \\\n",
       "4        331.5  4170      5000      1910        2370         1438     2.0   \n",
       "\n",
       "   ROOMS  BEDROOMS  FULL_BATH  \n",
       "4      7         3          2  "
      ]
     },
     "execution_count": 11,
     "metadata": {},
     "output_type": "execute_result"
    }
   ],
   "source": [
    "# 데이터 프레임 형식을 유지하려면 행에 슬라이스 사용\n",
    "housing_df.iloc[4:5, 0:10]"
   ]
  },
  {
   "cell_type": "code",
   "execution_count": null,
   "metadata": {},
   "outputs": [
    {
     "data": {
      "text/plain": [
       "0    344.2\n",
       "1    412.6\n",
       "2    330.1\n",
       "3    498.6\n",
       "4    331.5\n",
       "5    337.4\n",
       "6    359.4\n",
       "7    320.4\n",
       "8    333.5\n",
       "9    409.4\n",
       "Name: TOTAL_VALUE, dtype: float64"
      ]
     },
     "execution_count": 12,
     "metadata": {},
     "output_type": "execute_result"
    }
   ],
   "source": [
    "# 전체 열\n",
    "housing_df.iloc[:,0:1]\n",
    "housing_df['TOTAL_VALUE']\n",
    "housing_df['TOTAL_VALUE'][0:10]"
   ]
  },
  {
   "cell_type": "code",
   "execution_count": null,
   "metadata": {},
   "outputs": [
    {
     "name": "stdout",
     "output_type": "stream",
     "text": [
      "Number of rows 5802\n",
      "Mean of TOAL_VALUE 392.6857149258877\n"
     ]
    }
   ],
   "source": [
    "# 기술통계\n",
    "print('Number of rows', len(housing_df['TOTAL_VALUE']))\n",
    "print('Mean of TOAL_VALUE', housing_df['TOTAL_VALUE'].mean())"
   ]
  },
  {
   "attachments": {},
   "cell_type": "markdown",
   "metadata": {},
   "source": [
    ">함수정리\n",
    "- len() : 길이를 알아내는 함수\n",
    "- mean(): 평균 계산\n",
    "- std() : 표준편차 계산, standard의 약자\n",
    "- describe() : 데이터 요약 메서드로 각종 통계량을 나타냄"
   ]
  },
  {
   "cell_type": "code",
   "execution_count": null,
   "metadata": {},
   "outputs": [
    {
     "data": {
      "text/plain": [
       "count    5802.000000\n",
       "mean      392.685715\n",
       "std        99.177414\n",
       "min       105.000000\n",
       "25%       325.125000\n",
       "50%       375.900000\n",
       "75%       438.775000\n",
       "max      1217.800000\n",
       "Name: TOTAL_VALUE, dtype: float64"
      ]
     },
     "execution_count": 14,
     "metadata": {},
     "output_type": "execute_result"
    }
   ],
   "source": [
    "housing_df['TOTAL_VALUE'].describe()\n",
    "## 파라미터 안에 'TOTAL_VALUE'를 넣어, 해당 파라미터에 넣은 열(컬럼)의 값들을 불러온다. -> 즉 전체 데이터의 일부만을 불러온다.\n",
    "### 출력값의 dtype:float64를 통해 자료형은 실수형 data로 나온다는 것을 확인할 수 있다."
   ]
  },
  {
   "cell_type": "code",
   "execution_count": null,
   "metadata": {},
   "outputs": [
    {
     "data": {
      "text/html": [
       "<div>\n",
       "<style scoped>\n",
       "    .dataframe tbody tr th:only-of-type {\n",
       "        vertical-align: middle;\n",
       "    }\n",
       "\n",
       "    .dataframe tbody tr th {\n",
       "        vertical-align: top;\n",
       "    }\n",
       "\n",
       "    .dataframe thead th {\n",
       "        text-align: right;\n",
       "    }\n",
       "</style>\n",
       "<table border=\"1\" class=\"dataframe\">\n",
       "  <thead>\n",
       "    <tr style=\"text-align: right;\">\n",
       "      <th></th>\n",
       "      <th>TOTAL_VALUE</th>\n",
       "      <th>TAX</th>\n",
       "      <th>LOT_SQFT</th>\n",
       "      <th>YR_BUILT</th>\n",
       "      <th>GROSS_AREA</th>\n",
       "      <th>LIVING_AREA</th>\n",
       "      <th>FLOORS</th>\n",
       "      <th>ROOMS</th>\n",
       "      <th>BEDROOMS</th>\n",
       "      <th>FULL_BATH</th>\n",
       "      <th>HALF_BATH</th>\n",
       "      <th>KITCHEN</th>\n",
       "      <th>FIREPLACE</th>\n",
       "    </tr>\n",
       "  </thead>\n",
       "  <tbody>\n",
       "    <tr>\n",
       "      <th>count</th>\n",
       "      <td>5802.000000</td>\n",
       "      <td>5802.000000</td>\n",
       "      <td>5802.000000</td>\n",
       "      <td>5802.000000</td>\n",
       "      <td>5802.000000</td>\n",
       "      <td>5802.000000</td>\n",
       "      <td>5802.000000</td>\n",
       "      <td>5802.000000</td>\n",
       "      <td>5802.000000</td>\n",
       "      <td>5802.000000</td>\n",
       "      <td>5802.000000</td>\n",
       "      <td>5802.00000</td>\n",
       "      <td>5802.000000</td>\n",
       "    </tr>\n",
       "    <tr>\n",
       "      <th>mean</th>\n",
       "      <td>392.685715</td>\n",
       "      <td>4939.485867</td>\n",
       "      <td>6278.083764</td>\n",
       "      <td>1936.744916</td>\n",
       "      <td>2924.842123</td>\n",
       "      <td>1657.065322</td>\n",
       "      <td>1.683730</td>\n",
       "      <td>6.994829</td>\n",
       "      <td>3.230093</td>\n",
       "      <td>1.296794</td>\n",
       "      <td>0.613926</td>\n",
       "      <td>1.01534</td>\n",
       "      <td>0.739917</td>\n",
       "    </tr>\n",
       "    <tr>\n",
       "      <th>std</th>\n",
       "      <td>99.177414</td>\n",
       "      <td>1247.649118</td>\n",
       "      <td>2669.707974</td>\n",
       "      <td>35.989910</td>\n",
       "      <td>883.984726</td>\n",
       "      <td>540.456726</td>\n",
       "      <td>0.444884</td>\n",
       "      <td>1.437657</td>\n",
       "      <td>0.846607</td>\n",
       "      <td>0.522040</td>\n",
       "      <td>0.533839</td>\n",
       "      <td>0.12291</td>\n",
       "      <td>0.565108</td>\n",
       "    </tr>\n",
       "    <tr>\n",
       "      <th>min</th>\n",
       "      <td>105.000000</td>\n",
       "      <td>1320.000000</td>\n",
       "      <td>997.000000</td>\n",
       "      <td>0.000000</td>\n",
       "      <td>821.000000</td>\n",
       "      <td>504.000000</td>\n",
       "      <td>1.000000</td>\n",
       "      <td>3.000000</td>\n",
       "      <td>1.000000</td>\n",
       "      <td>1.000000</td>\n",
       "      <td>0.000000</td>\n",
       "      <td>1.00000</td>\n",
       "      <td>0.000000</td>\n",
       "    </tr>\n",
       "    <tr>\n",
       "      <th>25%</th>\n",
       "      <td>325.125000</td>\n",
       "      <td>4089.500000</td>\n",
       "      <td>4772.000000</td>\n",
       "      <td>1920.000000</td>\n",
       "      <td>2347.000000</td>\n",
       "      <td>1308.000000</td>\n",
       "      <td>1.000000</td>\n",
       "      <td>6.000000</td>\n",
       "      <td>3.000000</td>\n",
       "      <td>1.000000</td>\n",
       "      <td>0.000000</td>\n",
       "      <td>1.00000</td>\n",
       "      <td>0.000000</td>\n",
       "    </tr>\n",
       "    <tr>\n",
       "      <th>50%</th>\n",
       "      <td>375.900000</td>\n",
       "      <td>4728.000000</td>\n",
       "      <td>5683.000000</td>\n",
       "      <td>1935.000000</td>\n",
       "      <td>2700.000000</td>\n",
       "      <td>1548.500000</td>\n",
       "      <td>2.000000</td>\n",
       "      <td>7.000000</td>\n",
       "      <td>3.000000</td>\n",
       "      <td>1.000000</td>\n",
       "      <td>1.000000</td>\n",
       "      <td>1.00000</td>\n",
       "      <td>1.000000</td>\n",
       "    </tr>\n",
       "    <tr>\n",
       "      <th>75%</th>\n",
       "      <td>438.775000</td>\n",
       "      <td>5519.500000</td>\n",
       "      <td>7022.250000</td>\n",
       "      <td>1955.000000</td>\n",
       "      <td>3239.000000</td>\n",
       "      <td>1873.750000</td>\n",
       "      <td>2.000000</td>\n",
       "      <td>8.000000</td>\n",
       "      <td>4.000000</td>\n",
       "      <td>2.000000</td>\n",
       "      <td>1.000000</td>\n",
       "      <td>1.00000</td>\n",
       "      <td>1.000000</td>\n",
       "    </tr>\n",
       "    <tr>\n",
       "      <th>max</th>\n",
       "      <td>1217.800000</td>\n",
       "      <td>15319.000000</td>\n",
       "      <td>46411.000000</td>\n",
       "      <td>2011.000000</td>\n",
       "      <td>8154.000000</td>\n",
       "      <td>5289.000000</td>\n",
       "      <td>3.000000</td>\n",
       "      <td>14.000000</td>\n",
       "      <td>9.000000</td>\n",
       "      <td>5.000000</td>\n",
       "      <td>3.000000</td>\n",
       "      <td>2.00000</td>\n",
       "      <td>4.000000</td>\n",
       "    </tr>\n",
       "  </tbody>\n",
       "</table>\n",
       "</div>"
      ],
      "text/plain": [
       "       TOTAL_VALUE           TAX      LOT_SQFT     YR_BUILT   GROSS_AREA  \\\n",
       "count  5802.000000   5802.000000   5802.000000  5802.000000  5802.000000   \n",
       "mean    392.685715   4939.485867   6278.083764  1936.744916  2924.842123   \n",
       "std      99.177414   1247.649118   2669.707974    35.989910   883.984726   \n",
       "min     105.000000   1320.000000    997.000000     0.000000   821.000000   \n",
       "25%     325.125000   4089.500000   4772.000000  1920.000000  2347.000000   \n",
       "50%     375.900000   4728.000000   5683.000000  1935.000000  2700.000000   \n",
       "75%     438.775000   5519.500000   7022.250000  1955.000000  3239.000000   \n",
       "max    1217.800000  15319.000000  46411.000000  2011.000000  8154.000000   \n",
       "\n",
       "       LIVING_AREA       FLOORS        ROOMS     BEDROOMS    FULL_BATH  \\\n",
       "count  5802.000000  5802.000000  5802.000000  5802.000000  5802.000000   \n",
       "mean   1657.065322     1.683730     6.994829     3.230093     1.296794   \n",
       "std     540.456726     0.444884     1.437657     0.846607     0.522040   \n",
       "min     504.000000     1.000000     3.000000     1.000000     1.000000   \n",
       "25%    1308.000000     1.000000     6.000000     3.000000     1.000000   \n",
       "50%    1548.500000     2.000000     7.000000     3.000000     1.000000   \n",
       "75%    1873.750000     2.000000     8.000000     4.000000     2.000000   \n",
       "max    5289.000000     3.000000    14.000000     9.000000     5.000000   \n",
       "\n",
       "         HALF_BATH     KITCHEN    FIREPLACE  \n",
       "count  5802.000000  5802.00000  5802.000000  \n",
       "mean      0.613926     1.01534     0.739917  \n",
       "std       0.533839     0.12291     0.565108  \n",
       "min       0.000000     1.00000     0.000000  \n",
       "25%       0.000000     1.00000     0.000000  \n",
       "50%       1.000000     1.00000     1.000000  \n",
       "75%       1.000000     1.00000     1.000000  \n",
       "max       3.000000     2.00000     4.000000  "
      ]
     },
     "execution_count": 15,
     "metadata": {},
     "output_type": "execute_result"
    }
   ],
   "source": [
    "# 전체 데이터 요약\n",
    "housing_df.describe()"
   ]
  },
  {
   "cell_type": "code",
   "execution_count": null,
   "metadata": {},
   "outputs": [],
   "source": [
    "import numpy as np\n",
    "import pandas as pd\n",
    "from sklearn.model_selection import train_test_split     ## 훈련 평가 분할\n",
    "from sklearn.metrics import r2_score                     ## 결정 계수 함수\n",
    "from sklearn.linear_model import LinearRegression        ## 선형 회귀 분석"
   ]
  },
  {
   "attachments": {},
   "cell_type": "markdown",
   "metadata": {},
   "source": [
    "### 8.데이터셋 샘플링\n",
    "\n",
    "- 컴퓨터 용량과 소프트웨어의 한계로 인해 적은 데이터로도 모든 데이터를 사용했을 때와 비슷한 효과를 볼 수 있게 적절하게 샘플링하는 작업이 필요\n",
    "\n",
    "- 분류 문제에서 희소사건에 대한 오버샘플링\n",
    "    - 관심 데이터가 희귀할 경우 데이터 부족으로 모델 구축이 어려움 >> 샘플링 시 소수 클래스에 더 큰 가중치를 주어 불균형을 해결하거나 각 클래스의 오분류에 가중치를 주어 해결 \n",
    "    - ex. 메일에 응답해 특정 상품을 구매하는 고객, 사기 카드 거래\n",
    "    - 다수 클래스와 소수 클래스의 불균형을 고려하지 않은 모델의 경우, 전반적인 정확도는 높을 수 있으나 실제 문제에서 적용하기 어려움\n",
    "    - 모델 구축시 클래스별 오분류의 중요도를 고려해 가중치를 다르게 부여하여 보다 중요한 클래스의 오분류를 줄이는 것이 중요함\n",
    "\n",
    "### 9. 데이터 전처리와 데이터 정제\n",
    "\n",
    "- 변수는 여러 기준으로 분류 가능\n",
    "    - 숫자, 문자, 연속형 실수, 정수, 범주형 등 \n",
    "    - 범주형의 경우, 숫자 혹은 문자로 표현\n",
    "        - (혈액형)A,B,C,D//(지역)북아메리카,아시아,유럽 같이 특별한 순위 없는 경우를 명목형 변수라고 함\n",
    "        - 큰 값, 작은 값 등 순위로 표현할 수 있는 경우를 순서형 변수라고 함\n",
    "- 나이브베이즈분류기와 같이 범주형 변수만 사용하는 특별한 경우 제외하고, 대부분 연속형 변수를 예측 변수로 사용"
   ]
  },
  {
   "attachments": {},
   "cell_type": "markdown",
   "metadata": {},
   "source": [
    "### 데이터 전처리와 데이터 정제"
   ]
  },
  {
   "cell_type": "code",
   "execution_count": null,
   "metadata": {},
   "outputs": [
    {
     "data": {
      "text/plain": [
       "Index(['TOTAL_VALUE', 'TAX', 'LOT_SQFT', 'YR_BUILT', 'GROSS_AREA',\n",
       "       'LIVING_AREA', 'FLOORS', 'ROOMS', 'BEDROOMS', 'FULL_BATH', 'HALF_BATH',\n",
       "       'KITCHEN', 'FIREPLACE', 'REMODEL'],\n",
       "      dtype='object')"
      ]
     },
     "execution_count": 17,
     "metadata": {},
     "output_type": "execute_result"
    }
   ],
   "source": [
    "# 판다스 활용 변수 특성 파악\n",
    "# 변수 리스트 \n",
    "housing_df.columns"
   ]
  },
  {
   "attachments": {},
   "cell_type": "markdown",
   "metadata": {},
   "source": [
    ">참고\n",
    "- 판다스에서는 문자열을 object라는 자료형으로 나타냅니다. 파이썬에서는 문자열을 string이라고 하지만, 판다스는 object라고 한다.\n",
    "\n",
    "- Object 와 category \n",
    "    - category 형식은 가능한 값들의 범위가 고정되어있고, 한정적일 때 매우 사용한다\n",
    "    - 일반적인 문자열을 갖는 칼럼은 object로 사용하고, 값이 종류가 제한적일 때 category를 사용\n",
    "    \n",
    "    - A string variable consisting of only a few different values. Converting such a string variable to a categorical variable will save some memory, see here.\n",
    "    - The lexical order of a variable is not the same as the logical order (“one”, “two”, “three”). By converting to a categorical and specifying an order on the categories, sorting and min/max will use the logical order instead of the lexical order, see here.\n",
    "    - As a signal to other Python libraries that this column should be treated as a categorical variable (e.g. to use suitable statistical methods or plot types).\n"
   ]
  },
  {
   "cell_type": "code",
   "execution_count": null,
   "metadata": {},
   "outputs": [
    {
     "name": "stdout",
     "output_type": "stream",
     "text": [
      "object\n",
      "Index(['None', 'Old', 'Recent'], dtype='object')\n",
      "category\n"
     ]
    }
   ],
   "source": [
    "#REMODEL 열은 factor 이므로, 데이터 타입을 변경 시켜준다.\n",
    "print(housing_df.REMODEL.dtype)\n",
    "housing_df.REMODEL = housing_df.REMODEL.astype('category')\n",
    "print(housing_df.REMODEL.cat.categories)\n",
    "# 왜 타입을 변환할까? \n",
    "# 데이터 분석 모형은 숫자만 입력으로 받을 수 있기 때문에 범주형 데이터는 숫자로 변환해야 한다. 범주형 데이터를 숫자로 변환하는 방법은 두가지다.\n",
    "    # 더미변수화, 카테고리 임베딩\n",
    "\n",
    "####여기서 굳이 cat.categories를 한 이유가 뭘까.... 왜 여기서 리스트를 오브젝트로 볼까...\n",
    "    ### 정답은 공식문서에 있었다.. https://pandas.pydata.org/docs/reference/api/pandas.Series.cat.categories.html\n",
    "print(housing_df.REMODEL.dtype) "
   ]
  },
  {
   "cell_type": "code",
   "execution_count": null,
   "metadata": {},
   "outputs": [
    {
     "data": {
      "text/plain": [
       "TOTAL_VALUE     float64\n",
       "TAX               int64\n",
       "LOT_SQFT          int64\n",
       "YR_BUILT          int64\n",
       "GROSS_AREA        int64\n",
       "LIVING_AREA       int64\n",
       "FLOORS          float64\n",
       "ROOMS             int64\n",
       "BEDROOMS          int64\n",
       "FULL_BATH         int64\n",
       "HALF_BATH         int64\n",
       "KITCHEN           int64\n",
       "FIREPLACE         int64\n",
       "REMODEL        category\n",
       "dtype: object"
      ]
     },
     "execution_count": 19,
     "metadata": {},
     "output_type": "execute_result"
    }
   ],
   "source": [
    "housing_df.dtypes"
   ]
  },
  {
   "attachments": {},
   "cell_type": "markdown",
   "metadata": {},
   "source": [
    ">범주형 변수 처리\n",
    "\n",
    "- 범주형 변수 값에 순위가 있는 경우, 연속형 변수로 간주한다.(ex. 연령구간, 신용등급 등)\n",
    "- 범주에 순위가 없다면 범주를 가변수로 바꿔서 사용하기도 함\n",
    "-  데이터 분석 모형은 숫자만 입력으로 받을 수 있기 때문에 범주형 데이터는 숫자로 변환해야 한다. 범주형 데이터를 숫자로 변환하는 방법은 두가지다.\n",
    "- 더미변수화\n",
    "- 카테고리 임베딩\n",
    "\n",
    "https://hongl.tistory.com/89"
   ]
  },
  {
   "cell_type": "code",
   "execution_count": null,
   "metadata": {},
   "outputs": [
    {
     "data": {
      "text/plain": [
       "Index(['TOTAL_VALUE', 'TAX', 'LOT_SQFT', 'YR_BUILT', 'GROSS_AREA',\n",
       "       'LIVING_AREA', 'FLOORS', 'ROOMS', 'BEDROOMS', 'FULL_BATH', 'HALF_BATH',\n",
       "       'KITCHEN', 'FIREPLACE', 'REMODEL_Old', 'REMODEL_Recent'],\n",
       "      dtype='object')"
      ]
     },
     "execution_count": 20,
     "metadata": {},
     "output_type": "execute_result"
    }
   ],
   "source": [
    "# 판다스를 이용한 가변수 생성  -> 범주형 변수에 순위가 없다면, 범주를 가변수로 바꿔서 활용\n",
    "# drop_first >> 첫 번째 더미 변수를 삭제함 \n",
    "    # 데이터 프레임 명 = pd.get_dummies(데이터 프레임 명, columns=['수정하고싶은 컬럼'], prefix_sep='_', drop_first=True) \n",
    "    # ==> 이런식으로 하면, 지정한 컬럼에 대해서만 가변수로 바꿀 수 있음\n",
    "    \n",
    "    \n",
    "housing_df = pd.get_dummies(housing_df, prefix_sep='_', drop_first = True)\n",
    "    # prefix = 생성할 dummy variable에 이름 앞에 붙을 prefix값을 지정, profix_sep = profix와 범주 사이의 sparactor 분리기(?)로 '_'가 디폴트 값\n",
    "housing_df.columns"
   ]
  },
  {
   "cell_type": "code",
   "execution_count": null,
   "metadata": {},
   "outputs": [
    {
     "name": "stdout",
     "output_type": "stream",
     "text": [
      "   REMODEL_Old  REMODEL_Recent\n",
      "0            0               0\n",
      "1            0               1\n",
      "2            0               0\n",
      "3            0               0\n",
      "4            0               0\n"
     ]
    }
   ],
   "source": [
    "#loc인덱서를 활용해 가변수 처리된 범위를 지정 및 일부 호출을 통해,가변수처리가 정상적으로 작동하였는지 확인해 본다. \n",
    "\n",
    "# loc 인덱서 : 라벨값 기반의 2차원 인덱싱 \n",
    "    ## df.loc[행 인덱싱값] , df.loc[행 인덱싱값, 열 인덱싱값]\n",
    "    ## 행 인덱싱값은 정수 또는 행 인덱스데이터이고, ''열 인덱싱값은 라벨 문자열''임\n",
    "    \n",
    "print(housing_df.loc[:, 'REMODEL_Old':'REMODEL_Recent'].head(5))"
   ]
  },
  {
   "attachments": {},
   "cell_type": "markdown",
   "metadata": {},
   "source": [
    "### 9. 데이터 전처리와 데이터 정제 (이어서)\n",
    "\n",
    "> 변수 선택\n",
    "- 신뢰성이 높은 모델을 구축하려면 꼭 필요한 변수만 사용하는것이 바람직함 \n",
    "- 변수를 많이 사용할 경우 변수간의 상관관계를 고려해야 하고 더 많은 수의 관측치가 필요함\n",
    "- 변수가 너무 많은 모델은 미래 값을 예측하는 데 데이터가 더 많이 필요하고 전처리 작업도 증가해 간건하지 않음\n",
    "\n",
    "\n",
    "> 필요 변수와 관측치 수 \n",
    "- 적절한 변수를 포함시키는 작업은 모델 구축시 매우 중요함\n",
    "- 꼭 필요한 변수만 사용해야 간결한 모델 구축 가능하고, 간결한 모델이 결국 훌륭한 모델이 됨 \n",
    "- 방대한 데이터에서 모델에 어떤 변수를 포함할지는 매우 중요\n",
    "- 도메인 지식이 있는 사람한테서 얻는 정보 = 변수 포함 여부를 선택시 매우 중요, 모델의 정확도 높이고 오차 줄이는데 도움이 됨 -> 인간의 영역\n",
    "\n",
    "\n",
    "> 이상치\n",
    "- 측정 오류나 잘못된 입력으로 인해 이상치 발생 가능( 통계적으로 3σ(시그마)를 넘어가는 영역의 값은 이상치로 둠)\n",
    "- 기존 데이터로부터 멀리 떨어진, 통상 평균으로부터 표준편차의 세배가 넘는 범위의 데이터\n",
    "- 변수별 값들을 내림차순으로 정렬하고, 이들 중 가장 크거나 작은 수치들을 이상치로 판정하고, 군집 분석을 이용해 다른 데이터를 이상치로 판정함\n",
    "- 이상치의 개수가 매우 적은 경우 [결측치]로 처리 가능\n",
    "\n",
    "\n",
    "> 결측치\n",
    "- 변수가 많을 경우, 결측치를 단순 삭제하면 결측치 데이터에서 차지하는 비율이 낮더라도 많은 관측치에 영향을 미칠 수 있음\n",
    "- 결측치가 있는 관측치를 삭제하기  -> 기존 데이터를 이용해 대체 하는 것이 나음\n",
    "- 간단한 결측치 대체값은 평균,중앙값 등을 쓰고, 좀 더 정교한 대체값은 회귀분석을 이용\n",
    "- 데이터가 충분히 많을 경우, 복잡한 결측치 처리법보다는 간단한 방법 선호함\n",
    "- 결측치가 많을 경우, 관측치 수 자체가 적어 대체 방법을 적용하는데에도 한계가 존재함 ->이 경우,  변수의 중요도를 측정해 해당 변수가 예측에 미치는 영향력이 미미하다면 그 변수를 삭제하고 그렇지 않다면 결측치가 적게 존재하는 변수의 정보를 이용해 결측치를 대체하는 것이 좋음 \n",
    "- 중요한 변수의 결측치를 해결하는 근본적인 방법은 실제값을 얻는 것"
   ]
  },
  {
   "cell_type": "code",
   "execution_count": null,
   "metadata": {},
   "outputs": [
    {
     "data": {
      "text/plain": [
       "TOTAL_VALUE       0\n",
       "TAX               0\n",
       "LOT_SQFT          0\n",
       "YR_BUILT          0\n",
       "GROSS_AREA        0\n",
       "LIVING_AREA       0\n",
       "FLOORS            0\n",
       "ROOMS             0\n",
       "BEDROOMS          0\n",
       "FULL_BATH         0\n",
       "HALF_BATH         0\n",
       "KITCHEN           0\n",
       "FIREPLACE         0\n",
       "REMODEL_Old       0\n",
       "REMODEL_Recent    0\n",
       "dtype: int64"
      ]
     },
     "execution_count": 22,
     "metadata": {},
     "output_type": "execute_result"
    }
   ],
   "source": [
    "#앞서 데이터 shape을 활용하여 차원 확인 및 행, 열 수 (5802, 14)를 확인하였다.\n",
    "#\n",
    "housing_df.isnull().sum() "
   ]
  },
  {
   "cell_type": "markdown",
   "metadata": {},
   "source": []
  },
  {
   "cell_type": "code",
   "execution_count": null,
   "metadata": {},
   "outputs": [
    {
     "name": "stdout",
     "output_type": "stream",
     "text": [
      "Number of rows with BEDROOMS values before:  5802\n",
      "Number of rows with valid BEDROOMS values after setting to NAN:  5792\n"
     ]
    },
    {
     "data": {
      "text/plain": [
       "5792"
      ]
     },
     "execution_count": 23,
     "metadata": {},
     "output_type": "execute_result"
    }
   ],
   "source": [
    "# 데이터 전처리와 데이터 정제 - 변수 선택, 이상치 처리, 결측치 처리 \n",
    "    ## 변수 선택(신뢰성 높은 모델을 위해, 적절한 변수만 포함) > 변수가 너무 많을 경우, 상관관계 파악을 위해 많은 관측치가 필요함\n",
    "    ## 이상치 처리(3시그마)\n",
    "    ## 결측치(missing Value): 결측치가 있는 관측치를 삭제하기보다 기존 데이터를 이용해 대체할 수 있음\n",
    "\n",
    "\n",
    "print('Number of rows with BEDROOMS values before: ',housing_df['BEDROOMS'].count())\n",
    "missingRows = housing_df.sample(10).index\n",
    "housing_df.loc[missingRows,'BEDROOMS'] = np.nan\n",
    "print('Number of rows with valid BEDROOMS values after setting to NAN: ',housing_df['BEDROOMS'].count())\n",
    "housing_df['BEDROOMS'].count()"
   ]
  },
  {
   "attachments": {},
   "cell_type": "markdown",
   "metadata": {},
   "source": [
    "> 데이터 정규화(표준화)와 리스케일링\n",
    "- 정규화(표준화)가 필요한 이유 \n",
    "    - 군집 분석은 각 관측치가 군집 평균으로부터 얼마만큼 떨어져있는지를 기준으로 하는데, 다변량 데이터의 경우 변수들의 단위가 서로 달라 단위가 큰 변수가 전체 처리 계산을 지배할 수 있고, 단위가 \"일\"인 변수를 \"시간\"이나 \"달\"의 단위로 바꾼다면, 분석 결과가 완전 달라지기 때문\n",
    "    \n",
    "\n",
    "> 정규화 방법\n",
    "https://junklee.tistory.com/18\n",
    "https://wooono.tistory.com/96\n",
    "- z-score 값 구하기\n",
    "    - 각 관측치에서 해당 변수의 평균값을 빼주고, 표준편차 값으로 나누기 \n",
    "\n",
    "- scikit-learn 패키지에서 제공하는 StandardScalar() 함수 이용\n",
    "    - 학습 데이터에는 fit() 혹은 fit_transform()을 사용하고, 검증 데이터에는 transform()을 사용\n",
    "    - 모든 변수를 [0,1]의 스케일로 바꾸어 줌 \n",
    "    - pandas에서는(df-df.min())/(df.max()-df.min())\n",
    "    - scikit-learn 패키지에서는 MinMaxScaler 를 이용함\n",
    "\n",
    "https://mkjjo.github.io/python/2019/01/10/scaler.html\n",
    "- scikit-learn에서의 4가지 스케일러\n",
    "    - StandardScaler\t기본 스케일. 평균과 표준편차 사용\n",
    "    - MinMaxScaler\t최대/최소값이 각각 1, 0이 되도록 스케일링\n",
    "    - MaxAbsScaler\t최대절대값과 0이 각각 1, 0이 되도록 스케일링\n",
    "    - RobustScaler\t중앙값(median)과 IQR(interquartile range) 사용. 아웃라이어의 영향을 최소화\n",
    "\n",
    "> 정리 \n",
    "-  fit 피처 : 데이터에 담겨져 있는 값.\n",
    "        - Standard Scaling 또는 MinMax Scaling을 하면 값의 범위들이 일정수준으로 맞춰지면서 비교, 분석을 할 수 있게 됨\n",
    "- 표준화 (Standard Scaling) : 평균값(.mean())과 분산값(.var())을 구하기 위해 사용\n",
    "        - 데이터를 평균이 0, 분산이 1인 정규분포로 만들어 주는 과정\n",
    "        - 전처리 단계에서 스탠다드 스케일링을 하면 성능 향상에 좋음\n",
    "\n",
    "- 정규화 (MinMax Scaling) : 피쳐 단위를 맞춰준 다음 최대값과 최소값을 구할 때 사용       - 사이킷런에서 제공하는 MinMaxScaler는 음수값이 없으면 0~1의 값으로 바뀜\n",
    "        - 음수값이 있으면 -1 ~ 1 값으로 변환\n",
    "        - 표준화가 가능하면 표준화를 하면되지만 아닐 때는 정규화를 하면됨. 하지만 둘 다 쓰는 경우가 많음\n",
    "\n"
   ]
  },
  {
   "cell_type": "code",
   "execution_count": null,
   "metadata": {},
   "outputs": [],
   "source": [
    "# 정규화 및 스케일 실행 코드 \n",
    "## 정규화 및 표준화 준비 \n",
    "from sklearn.preprocessing import StandardScaler, MinMaxScaler  \n",
    "# StandardScaler(표준화),  MinMaxScaler(정규화)\n",
    "df = housing_df.copy  # housing_df 데이터 프레임 전체를 깊은 복사해옴. 이 경우, 아예 값을 그대로 복사해 오고, index/데이터가 따로 저장 및 수정됨\n",
    "\n",
    "# 표준화  StandarScaler\n",
    "# pandas로 할 경우 \n",
    "norm_df = (housing_df - housing_df.mean())/housing_df.std()\n",
    "\n",
    "# scikit-learn으로 표준화 할 경우, \n",
    "scaler = StandardScaler()\n",
    "norm_df = pd.DataFrame(scaler.fit_transform(housing_df), index = housing_df.index, columns = housing_df.columns)\n",
    "\n",
    "# 정규화 MinMaxScaler\n",
    "# pandas로 할 경우 \n",
    "rescaled_df = (housing_df - housing_df.min())/ (housing_df.max()- housing_df.min())\n",
    "\n",
    "# scikit- learn\n",
    "scaler = MinMaxScaler()\n",
    "rescaled_df = pd.DataFrame(scaler.fit_transform(housing_df), index=housing_df.index, columns=housing_df.columns)"
   ]
  },
  {
   "attachments": {},
   "cell_type": "markdown",
   "metadata": {},
   "source": [
    "### 10. 예측력과 과적합\n",
    "\n",
    "> 과적합\n",
    " \n",
    "- 모델은 반응 변수와 예측 변수 간의 상관관계를 잘 설명하고 미래 값을 정확히 예측해야 함\n",
    "- 현재 데이터를 잘 설명하는 것도 중요하지만, 더 정확한 것은 미래 값에 대한 정확한 예측\n",
    "- 현재 데이터에 '과하게 적합'된 것을 과적합이라고 함\n",
    "- 현 데이터 성능만 고려해 불필요하게 포함된 변수들은 과적합을 유발 가능\n",
    "- 관측치 수가 변수 개수보다 적을 경우 엉뚱한 관계가 모델에 반영될 수 있어 학습 데이터가 충분하지 않을 경우, 간단한 함수로 표현된 모델이 더 좋은 성능을 보일때가 많음\n",
    "- 가장 좋은 성능이 좋은 모델을 선택하는 과정에서 너무 많은 모델을 사용할 때도 과적하이 발생 가능"
   ]
  },
  {
   "cell_type": "markdown",
   "metadata": {},
   "source": []
  },
  {
   "attachments": {},
   "cell_type": "markdown",
   "metadata": {},
   "source": [
    "### 11. 데이터 분할\n",
    "\n",
    "> 모델의 성능이 좋은 경우 \n",
    "- (1) 선택한 모델이 우수한 경우 \n",
    "- (2) 선택 모델이 현재 사용한 데이터에 우연히 잘맞는 경우  -> 이 경우는 지양해야하고, 매우 심각한 문제 초래 가능\n",
    "\n",
    "> 데이터를 학습, 검증, 테스트 데이터로 나누어 모델을 검증해야 함 \n",
    "- 학습(훈련, Tranining) 데이터 : 모델 구축시 사용. 여러 모델을 비교할 경우, 동일한 학습 데이터를 사용\n",
    "\n",
    "- 검증(Validation) 데이터: 학습 데이터로부터 구축된 여러 모델의 성능을 비교할 때 사용. 몇몇 알고리즘(의사결정 트리, k-최근접 이웃)에서는 검증 데이터를 이용해 모델의 하이퍼 파라미터를 결정하기도 함\n",
    "     \n",
    "- 테스트(평가,시험,Testing)데이터 : 구축된 모델이 향후 수집될 새로운 데이터에 대해 얼마만큼 예측/ 분류 성능을 보일지 평가할 때 쓰임 \n",
    "\n",
    "> [n-fold cross validation] 위의 훈련, 검증, 테스트 데이터를 번갈아가면서 하는 방식으로 모든 데이터를 1회 이상 검증 학습 테스트를 반복한다."
   ]
  },
  {
   "cell_type": "code",
   "execution_count": null,
   "metadata": {},
   "outputs": [
    {
     "name": "stdout",
     "output_type": "stream",
     "text": [
      "traning:  (3481, 15)\n",
      "validation:  (2321, 15)\n"
     ]
    }
   ],
   "source": [
    "# 데이터 분할\n",
    "# 웨스트 록스베리 데이터를 학습/검증/시험 데이터로 분할\n",
    "\n",
    "## ver1 모듈을 사용하는 방법\n",
    "trainData= housing_df.sample(frac=0.6, random_state=1)\n",
    "\n",
    "# 훈련 세트에 아직  없는 행을 검증에 할당\n",
    "valiData = housing_df.drop(trainData.index)\n",
    "\n",
    "print('traning: ', trainData.shape)\n",
    "print('validation: ', valiData.shape)"
   ]
  },
  {
   "cell_type": "code",
   "execution_count": null,
   "metadata": {},
   "outputs": [
    {
     "name": "stdout",
     "output_type": "stream",
     "text": [
      "traning:  (3481, 15)\n",
      "validation:  (2321, 15)\n"
     ]
    }
   ],
   "source": [
    "## Scikit-learn을 사용하는 다른 방법(위와 같이 traning, validation 값만 나옴)\n",
    "\n",
    "# train_test_split는 랜덤으로 train,test 값을 쪼개줌\n",
    "from sklearn.model_selection import train_test_split\n",
    "trainData,validData = train_test_split(housing_df, test_size=0.40, random_state=1)\n",
    "\n",
    "print('traning: ', trainData.shape)\n",
    "print('validation: ', valiData.shape)"
   ]
  },
  {
   "cell_type": "code",
   "execution_count": null,
   "metadata": {},
   "outputs": [
    {
     "name": "stdout",
     "output_type": "stream",
     "text": [
      "traning    :  (2901, 15)\n",
      "validation :  (2321, 15)\n",
      "Test       :  (580, 15)\n",
      "\n"
     ]
    }
   ],
   "source": [
    "# Scikit-learn을 사용하는 경우, \n",
    "# train/ validation 값만 설정되는데 다음과 같은 방법을 활용해 train,valid,test값으로 나눌 수 있음 \n",
    "\n",
    "# 학습(train)을 위해 id의 50%를 무작위 샘플링\n",
    "trainData = housing_df.sample(frac=0.5, random_state=1)\n",
    "\n",
    "# 행 아이디의 30%를 검증 세트로 샘플링하여 레코드에서만 가져옴 \n",
    "# 50%의 60%는 30%  ==> 검증 데이터로 활용 \n",
    "validData = housing_df.drop(trainData.index).sample(frac = 0.6, random_state = 1)\n",
    "\n",
    "## 나머지 20% 를 테스트 데이터로 활용 \n",
    "testData = housing_df.drop(trainData.index).drop(valiData.index)\n",
    "\n",
    "print('traning    : ', trainData.shape)\n",
    "print('validation : ', valiData.shape)\n",
    "print('Test       : ', testData.shape)\n",
    "print()"
   ]
  },
  {
   "cell_type": "code",
   "execution_count": null,
   "metadata": {},
   "outputs": [
    {
     "name": "stdout",
     "output_type": "stream",
     "text": [
      "traning    :  (2901, 15)\n",
      "validation :  (1741, 15)\n",
      "Test       :  (1160, 15)\n",
      "\n"
     ]
    }
   ],
   "source": [
    "# Scikit-learn을 사용하는 경우, \n",
    "# train/ validation 값만 설정되는데 다음과 같은 방법을 활용해 train,valid,test값으로 나눌 수 있음 \n",
    "\n",
    "# 학습(train)을 위해 id의 50%를 무작위 샘플링\n",
    "trainData = housing_df.sample(frac=0.5, random_state=1)\n",
    "\n",
    "# 행 아이디의 30%를 검증 세트로 샘플링하여 레코드에서만 가져옴 \n",
    "# 50%의 60%는 30%  ==> 검증 데이터로 활용 \n",
    "validData = housing_df.drop(trainData.index).sample(frac = 0.6, random_state = 1)\n",
    "\n",
    "## 나머지 20% 를 테스트 데이터로 활용 \n",
    "testData = housing_df.drop(trainData.index).drop(validData.index)\n",
    "\n",
    "print('traning    : ', trainData.shape)\n",
    "print('validation : ', validData.shape)\n",
    "print('Test       : ', testData.shape)\n",
    "print()"
   ]
  },
  {
   "cell_type": "code",
   "execution_count": null,
   "metadata": {},
   "outputs": [
    {
     "name": "stdout",
     "output_type": "stream",
     "text": [
      "traning    :  (2901, 15)\n",
      "validation :  (1740, 15)\n",
      "Test       :  (1161, 15)\n"
     ]
    }
   ],
   "source": [
    "# sckit-learn을 사용하는 다른 방법\n",
    "\n",
    "trainData, temp = train_test_split(housing_df, test_size= 0.5, random_state=1)\n",
    "valiData,testData = train_test_split(temp, test_size=0.4,random_state=1)\n",
    "\n",
    "print('traning    : ', trainData.shape)\n",
    "print('validation : ', valiData.shape)\n",
    "print('Test       : ', testData.shape)\n"
   ]
  },
  {
   "attachments": {},
   "cell_type": "markdown",
   "metadata": {},
   "source": [
    "### 모델 구축 : 선형 회기 분석을 이용한 예제 \n",
    "> 모델링 과정\n",
    "- 1. 목적 웨스트 록스베리 지역 주택 가격을 예측\n",
    "- 2. 데이터셋 획득 2014년 웨스트 록스베리 주택 가격 데이터셋을 이용할 것이며, 전체 데이터의 수가 많지 않아 별도의 표본을 취하지 않았다. \n",
    "- 3. 데이터 탐색/ 정제/ 전처리 \n",
    "- 4. 데이터 축소\n",
    "- 5. 데이터 마이닝 문제 결정\n",
    "- 6. 데이터 분할(지도 학습용)\n",
    "- 7. 데이터 마이닝 기법 선택 \n",
    "- 8. 알고리즘을 사용한 과제 수행\n"
   ]
  },
  {
   "cell_type": "code",
   "execution_count": 3,
   "metadata": {},
   "outputs": [
    {
     "name": "stdout",
     "output_type": "stream",
     "text": [
      "no display found. Using non-interactive Agg backend\n"
     ]
    }
   ],
   "source": [
    "import dmba\n",
    "import pandas as pd"
   ]
  },
  {
   "cell_type": "code",
   "execution_count": 5,
   "metadata": {},
   "outputs": [],
   "source": [
    "# 학습 데이터 일부에 대한 예측 \n",
    "# 웨스트 록스베리 학습 데이터를 사용해 모델 구축\n",
    "\n",
    "# 1. 데이터 불러오기 및 전처리 \n",
    "# housing_df = dmba.load_data('WestRoxbury.csv')\n",
    "## https://hongl.tistory.com/89\n",
    "\n",
    "housing_df = dmba.load_data('WestRoxbury.csv')\n",
    "housing_df.columns = [s.strip().replace(' ','_')for s in housing_df.columns]\n",
    "housing_df = pd.get_dummies(housing_df, prefix_sep='_', drop_first=True)\n",
    "\n",
    "excludeColumns = ('TOTAL_VALUE', 'TAX')\n",
    "predictors = [s for s in housing_df.columns if s not in excludeColumns]\n",
    "outcome = 'TOTAL_VALUE'"
   ]
  }
 ],
 "metadata": {
  "kernelspec": {
   "display_name": "conda",
   "language": "python",
   "name": "conda"
  },
  "language_info": {
   "codemirror_mode": {
    "name": "ipython",
    "version": 3
   },
   "file_extension": ".py",
   "mimetype": "text/x-python",
   "name": "python",
   "nbconvert_exporter": "python",
   "pygments_lexer": "ipython3",
   "version": "3.9.13"
  }
 },
 "nbformat": 4,
 "nbformat_minor": 2
}
