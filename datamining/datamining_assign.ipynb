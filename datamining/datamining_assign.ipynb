{
 "cells": [
  {
   "attachments": {},
   "cell_type": "markdown",
   "metadata": {},
   "source": [
    "## [데이터마이닝] 과제1 \n",
    "ToyotaCorolla.csv 데이터에서\n",
    "- fuel_type 변수와 color 변수(범주, 그중에서도 명목형 데이터)를 pandas를 활용하여 가변수(더미변수)로 변환하라\n",
    "\n",
    "- 학습 50%, 검증 30%, 시험 20%로 분할하고 역할을 설명하라\n",
    "\n",
    ">Addendum\n",
    "- 본 데이터를 대상으로 본인이 현재까지 알고 있는 지식을 활용하여 데이터 마이닝적 관점에서 분석 및 해석\n",
    ">경로\n",
    "/Users/shimyuna/Desktop/✳︎/Python-Data-Mining/datamining/ToyotaCorolla.csv"
   ]
  },
  {
   "cell_type": "markdown",
   "metadata": {},
   "source": []
  },
  {
   "cell_type": "code",
   "execution_count": 1,
   "metadata": {},
   "outputs": [],
   "source": [
    "# 사용할 파이썬 라이브러리 불러오기 \n",
    "import numpy as np\n",
    "import pandas as pd\n",
    "import sklearn as sk\n",
    "from sklearn.model_selection import train_test_split  # 훈련/평가 분할\n",
    "from sklearn.metrics import r2_score # 결정계수 함수 (이 통계 모델로 대상을 얼마나 잘 설명할 수 있는가를 숫자로 나타낸 것이 결정계수이다.)\n",
    "from sklearn.linear_model import LinearRegression #선형 회귀 분석"
   ]
  },
  {
   "cell_type": "code",
   "execution_count": 2,
   "metadata": {},
   "outputs": [],
   "source": [
    "#데이터로부터 데이터 셋을 생성하고, 불러오는 코드\n",
    "Toyota_df = pd.read_csv(\"/Users/shimyuna/Desktop/✳︎/Python-Data-Mining/datamining/ToyotaCorolla.csv\")"
   ]
  },
  {
   "cell_type": "code",
   "execution_count": 3,
   "metadata": {},
   "outputs": [
    {
     "data": {
      "text/plain": [
       "(1436, 38)"
      ]
     },
     "execution_count": 3,
     "metadata": {},
     "output_type": "execute_result"
    }
   ],
   "source": [
    "# 데이터 차원 확인\n",
    "Toyota_df.shape  # 몇행 몇열인지 반환"
   ]
  },
  {
   "cell_type": "code",
   "execution_count": 4,
   "metadata": {},
   "outputs": [
    {
     "data": {
      "text/html": [
       "<div>\n",
       "<style scoped>\n",
       "    .dataframe tbody tr th:only-of-type {\n",
       "        vertical-align: middle;\n",
       "    }\n",
       "\n",
       "    .dataframe tbody tr th {\n",
       "        vertical-align: top;\n",
       "    }\n",
       "\n",
       "    .dataframe thead th {\n",
       "        text-align: right;\n",
       "    }\n",
       "</style>\n",
       "<table border=\"1\" class=\"dataframe\">\n",
       "  <thead>\n",
       "    <tr style=\"text-align: right;\">\n",
       "      <th></th>\n",
       "      <th>model</th>\n",
       "      <th>price</th>\n",
       "      <th>age_08_04</th>\n",
       "      <th>mfg_month</th>\n",
       "      <th>mfg_year</th>\n",
       "      <th>km</th>\n",
       "      <th>fuel_type</th>\n",
       "      <th>hp</th>\n",
       "      <th>met_color</th>\n",
       "      <th>color</th>\n",
       "      <th>...</th>\n",
       "      <th>powered_windows</th>\n",
       "      <th>power_steering</th>\n",
       "      <th>radio</th>\n",
       "      <th>mistlamps</th>\n",
       "      <th>sport_model</th>\n",
       "      <th>backseat_divider</th>\n",
       "      <th>metallic_rim</th>\n",
       "      <th>radio_cassette</th>\n",
       "      <th>parking_assistant</th>\n",
       "      <th>tow_bar</th>\n",
       "    </tr>\n",
       "  </thead>\n",
       "  <tbody>\n",
       "    <tr>\n",
       "      <th>0</th>\n",
       "      <td>TOYOTA Corolla 2.0 D4D HATCHB TERRA 2/3-Doors</td>\n",
       "      <td>13500</td>\n",
       "      <td>23</td>\n",
       "      <td>10</td>\n",
       "      <td>2002</td>\n",
       "      <td>46986</td>\n",
       "      <td>Diesel</td>\n",
       "      <td>90</td>\n",
       "      <td>1</td>\n",
       "      <td>Blue</td>\n",
       "      <td>...</td>\n",
       "      <td>1</td>\n",
       "      <td>1</td>\n",
       "      <td>0</td>\n",
       "      <td>0</td>\n",
       "      <td>0</td>\n",
       "      <td>1</td>\n",
       "      <td>0</td>\n",
       "      <td>0</td>\n",
       "      <td>0</td>\n",
       "      <td>0</td>\n",
       "    </tr>\n",
       "    <tr>\n",
       "      <th>1</th>\n",
       "      <td>TOYOTA Corolla 2.0 D4D HATCHB TERRA 2/3-Doors</td>\n",
       "      <td>13750</td>\n",
       "      <td>23</td>\n",
       "      <td>10</td>\n",
       "      <td>2002</td>\n",
       "      <td>72937</td>\n",
       "      <td>Diesel</td>\n",
       "      <td>90</td>\n",
       "      <td>1</td>\n",
       "      <td>Silver</td>\n",
       "      <td>...</td>\n",
       "      <td>0</td>\n",
       "      <td>1</td>\n",
       "      <td>0</td>\n",
       "      <td>0</td>\n",
       "      <td>0</td>\n",
       "      <td>1</td>\n",
       "      <td>0</td>\n",
       "      <td>0</td>\n",
       "      <td>0</td>\n",
       "      <td>0</td>\n",
       "    </tr>\n",
       "  </tbody>\n",
       "</table>\n",
       "<p>2 rows × 38 columns</p>\n",
       "</div>"
      ],
      "text/plain": [
       "                                           model  price  age_08_04  mfg_month  \\\n",
       "0  TOYOTA Corolla 2.0 D4D HATCHB TERRA 2/3-Doors  13500         23         10   \n",
       "1  TOYOTA Corolla 2.0 D4D HATCHB TERRA 2/3-Doors  13750         23         10   \n",
       "\n",
       "   mfg_year     km fuel_type  hp  met_color   color  ...  powered_windows  \\\n",
       "0      2002  46986    Diesel  90          1    Blue  ...                1   \n",
       "1      2002  72937    Diesel  90          1  Silver  ...                0   \n",
       "\n",
       "   power_steering  radio  mistlamps  sport_model  backseat_divider  \\\n",
       "0               1      0          0            0                 1   \n",
       "1               1      0          0            0                 1   \n",
       "\n",
       "   metallic_rim  radio_cassette  parking_assistant  tow_bar  \n",
       "0             0               0                  0        0  \n",
       "1             0               0                  0        0  \n",
       "\n",
       "[2 rows x 38 columns]"
      ]
     },
     "execution_count": 4,
     "metadata": {},
     "output_type": "execute_result"
    }
   ],
   "source": [
    "#상위 10개까지 뽑아 봐서, 38개의 열 이름이 무엇이 있고 어떤 데이터 들인지 확인하기 \n",
    "Toyota_df.head(2)"
   ]
  },
  {
   "cell_type": "code",
   "execution_count": 5,
   "metadata": {},
   "outputs": [],
   "source": [
    "# fuel_type 변수와 color 변수의 제한적인 값을 카테고리로 바꿔, 효율적으로 데이터 프레임을 관리할 수 있게 함\n",
    "Toyota_df.fuel_type = Toyota_df.fuel_type.astype('category')\n",
    "Toyota_df.color = Toyota_df.color.astype('category')\n",
    "# 확인용 코드print(Toyota_df.fuel_type.cat.categories)"
   ]
  },
  {
   "cell_type": "code",
   "execution_count": 6,
   "metadata": {},
   "outputs": [
    {
     "data": {
      "text/plain": [
       "Index(['model', 'price', 'age_08_04', 'mfg_month', 'mfg_year', 'km', 'hp',\n",
       "       'met_color', 'automatic', 'cc', 'doors', 'cylinders', 'gears',\n",
       "       'quarterly_tax', 'weight', 'mfr_guarantee', 'bovag_guarantee',\n",
       "       'guarantee_period', 'abs', 'airbag_1', 'airbag_2', 'airco',\n",
       "       'automatic_airco', 'boardcomputer', 'cd_player', 'central_lock',\n",
       "       'powered_windows', 'power_steering', 'radio', 'mistlamps',\n",
       "       'sport_model', 'backseat_divider', 'metallic_rim', 'radio_cassette',\n",
       "       'parking_assistant', 'tow_bar', 'fuel_type_Diesel', 'fuel_type_Petrol',\n",
       "       'color_Black', 'color_Blue', 'color_Green', 'color_Grey', 'color_Red',\n",
       "       'color_Silver', 'color_Violet', 'color_White', 'color_Yellow'],\n",
       "      dtype='object')"
      ]
     },
     "execution_count": 6,
     "metadata": {},
     "output_type": "execute_result"
    }
   ],
   "source": [
    "# fuel_type 변수와 color 변수를 pandas를 활용하여 가변수로 변환\n",
    "    #  범주형 변수에 순위가 없다면, 범주를 가변수로 바꿔서 활용하기도 함 \n",
    "    # 데이터 프레임 명 = pd.get_dummies(데이터 프레임 명, columns=['수정하고싶은 컬럼'], prefix_sep='_', drop_first=True) \n",
    "    # ==> 이런식으로 하면, 지정한 컬럼에 대해서만 가변수로 바꿀 수 있음\n",
    "\n",
    "Toyota_df = pd.get_dummies(Toyota_df, columns=['fuel_type','color'],prefix_sep='_', drop_first=True)\n",
    "Toyota_df.columns"
   ]
  },
  {
   "cell_type": "code",
   "execution_count": 7,
   "metadata": {},
   "outputs": [
    {
     "name": "stdout",
     "output_type": "stream",
     "text": [
      "   fuel_type_Diesel  fuel_type_Petrol  color_Black  color_Blue  color_Green  \\\n",
      "0                 1                 0            0           1            0   \n",
      "1                 1                 0            0           0            0   \n",
      "2                 1                 0            0           1            0   \n",
      "\n",
      "   color_Grey  color_Red  color_Silver  color_Violet  color_White  \\\n",
      "0           0          0             0             0            0   \n",
      "1           0          0             1             0            0   \n",
      "2           0          0             0             0            0   \n",
      "\n",
      "   color_Yellow  \n",
      "0             0  \n",
      "1             0  \n",
      "2             0  \n"
     ]
    }
   ],
   "source": [
    "# 가변수 처리가 정상적으로 되었는지, 가변수 처리한 컬럼들에 대해 확인\n",
    "# loc을 활용해 컬럼 범위 지정, head를 활용해 일부 추출\n",
    "print(Toyota_df.loc[:,'fuel_type_Diesel':'color_Yellow'].head(3))"
   ]
  },
  {
   "cell_type": "code",
   "execution_count": 8,
   "metadata": {},
   "outputs": [
    {
     "data": {
      "text/plain": [
       "model                0\n",
       "price                0\n",
       "age_08_04            0\n",
       "mfg_month            0\n",
       "mfg_year             0\n",
       "km                   0\n",
       "hp                   0\n",
       "met_color            0\n",
       "automatic            0\n",
       "cc                   0\n",
       "doors                0\n",
       "cylinders            0\n",
       "gears                0\n",
       "quarterly_tax        0\n",
       "weight               0\n",
       "mfr_guarantee        0\n",
       "bovag_guarantee      0\n",
       "guarantee_period     0\n",
       "abs                  0\n",
       "airbag_1             0\n",
       "airbag_2             0\n",
       "airco                0\n",
       "automatic_airco      0\n",
       "boardcomputer        0\n",
       "cd_player            0\n",
       "central_lock         0\n",
       "powered_windows      0\n",
       "power_steering       0\n",
       "radio                0\n",
       "mistlamps            0\n",
       "sport_model          0\n",
       "backseat_divider     0\n",
       "metallic_rim         0\n",
       "radio_cassette       0\n",
       "parking_assistant    0\n",
       "tow_bar              0\n",
       "fuel_type_Diesel     0\n",
       "fuel_type_Petrol     0\n",
       "color_Black          0\n",
       "color_Blue           0\n",
       "color_Green          0\n",
       "color_Grey           0\n",
       "color_Red            0\n",
       "color_Silver         0\n",
       "color_Violet         0\n",
       "color_White          0\n",
       "color_Yellow         0\n",
       "dtype: int64"
      ]
     },
     "execution_count": 8,
     "metadata": {},
     "output_type": "execute_result"
    }
   ],
   "source": [
    "# 결측 데이터 처리해야 하는 값이 있는지 확인하기, 앞서 .shpe를 통해 차원과 행열의 수를 확인했음 (1436, 38)\n",
    "# info()를 활용해 데이터 프레임 정보 확인 후 결측데이터 처리해야할 부분 체크\n",
    "Toyota_df.isnull().sum() "
   ]
  },
  {
   "cell_type": "code",
   "execution_count": 9,
   "metadata": {},
   "outputs": [],
   "source": [
    "# 데이터 전처리와 데이터 정제 - 변수 선택, 이상치 처리, 결측치 처리 \n",
    "    ## 변수 선택(신뢰성 높은 모델을 위해, 적절한 변수만 포함) > 변수가 너무 많을 경우, 상관관계 파악을 위해 많은 관측치가 필요함\n",
    "    ## 이상치 처리(3시그마)\n",
    "    ## 결측치(missing Value): 결측치가 있는 관측치를 삭제하기보다 기존 데이터를 이용해 대체할 수 있음\n",
    "    ###위 결과를 통해 결측치가 없기 때문에 처리할 부분이 없는 것으로 판단! 이부분은 패스.."
   ]
  },
  {
   "cell_type": "code",
   "execution_count": 11,
   "metadata": {},
   "outputs": [
    {
     "name": "stdout",
     "output_type": "stream",
     "text": [
      "traning    :  (718, 47)\n",
      "validation :  (431, 47)\n",
      "Test       :  (287, 47)\n",
      "\n"
     ]
    }
   ],
   "source": [
    "# Toyota 데이터를 학습 50%, 검증 30%, 시험 20%로 분할\n",
    "\n",
    "# Scikit-learn을 사용하는 경우, \n",
    "# train/ validation 값만 설정되는데 다음과 같은 방법을 활용해 train,valid,test값으로 나눌 수 있음 \n",
    "\n",
    "\n",
    "# 학습(train)을 위해 id의 50%를 무작위 샘플링\n",
    "# frac를 통해 50%를 학습을 위한 데이터로 설정하고, random_state는 1로 하여 랜덤 추출한 값에 시드를 설정할 수 있다. 원하는 값을 설정하면, 항상 같은 결과를 출력\n",
    "trainData = Toyota_df.sample(frac=0.5, random_state=1)\n",
    "\n",
    "\n",
    "# 행 아이디의 30%를 검증 세트로 샘플링하여 레코드에서만 가져옴 \n",
    "# 50%의 60%는 30%  ==> 검증 데이터로 활용 \n",
    "validData = Toyota_df.drop(trainData.index).sample(frac = 0.6, random_state = 1)\n",
    "\n",
    "\n",
    "## 나머지 20% 를 테스트 데이터로 활용 \n",
    "testData = Toyota_df.drop(trainData.index).drop(validData.index)\n",
    "\n",
    "print('traning    : ', trainData.shape)\n",
    "print('validation : ', validData.shape)\n",
    "print('Test       : ', testData.shape)\n",
    "print()"
   ]
  }
 ],
 "metadata": {
  "kernelspec": {
   "display_name": "conda",
   "language": "python",
   "name": "conda"
  },
  "language_info": {
   "codemirror_mode": {
    "name": "ipython",
    "version": 3
   },
   "file_extension": ".py",
   "mimetype": "text/x-python",
   "name": "python",
   "nbconvert_exporter": "python",
   "pygments_lexer": "ipython3",
   "version": "3.9.13"
  },
  "orig_nbformat": 4
 },
 "nbformat": 4,
 "nbformat_minor": 2
}
