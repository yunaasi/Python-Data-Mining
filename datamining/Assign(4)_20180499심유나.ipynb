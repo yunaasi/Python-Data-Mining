{
 "cells": [
  {
   "attachments": {},
   "cell_type": "markdown",
   "metadata": {},
   "source": [
    "# 데이터마이닝 4주차 과제"
   ]
  },
  {
   "cell_type": "code",
   "execution_count": 2,
   "metadata": {},
   "outputs": [
    {
     "name": "stdout",
     "output_type": "stream",
     "text": [
      "no display found. Using non-interactive Agg backend\n"
     ]
    }
   ],
   "source": [
    "# 문제 풀이를 위한 모듈 import \n",
    "import pandas as pd\n",
    "import seaborn as sns\n",
    "import dmba "
   ]
  },
  {
   "attachments": {},
   "cell_type": "markdown",
   "metadata": {},
   "source": [
    "### 문제1.\n",
    " 아침 식사용 시리얼 데이터(Cereals.csv)를 이용하여 ‘Calories’ 변수에 대한 요약 통계(평균, 표준편차, 최소값, 최대값, 중앙값)를 도출하시오. 요약 통계는 python을 이 용하여 두 가지 방식(한번에 계산하기, 각각 계산하기)으로 도출하고, 코드 및 결과 화면을 캡처해서 제출하시오.\n",
    "\n",
    "https://github.com/reisanar/datasets/blob/master/Cereals.csv"
   ]
  },
  {
   "cell_type": "code",
   "execution_count": 27,
   "metadata": {},
   "outputs": [
    {
     "data": {
      "text/plain": [
       "(77, 16)"
      ]
     },
     "execution_count": 27,
     "metadata": {},
     "output_type": "execute_result"
    }
   ],
   "source": [
    "# 데이터 불러오기 \n",
    "cere_df = dmba.load_data('Cereals.csv')\n",
    "cere_df.shape"
   ]
  },
  {
   "cell_type": "code",
   "execution_count": 47,
   "metadata": {},
   "outputs": [
    {
     "name": "stdout",
     "output_type": "stream",
     "text": [
      "count     77.000000\n",
      "mean     106.883117\n",
      "std       19.484119\n",
      "min       50.000000\n",
      "50%      110.000000\n",
      "max      160.000000\n",
      "Name: calories, dtype: float64\n"
     ]
    }
   ],
   "source": [
    "# calories 변수에 대한 요약 통계 도출 방법 1\n",
    "\n",
    "# step1. describe 매서드를 활용하여 데이터 프레임 형태로 요약통계 값(평균,표준편차, 최소값, 최대값, 중앙값)을 추출\n",
    "# step2. 추출한 값에서 calories 열만 선택\n",
    "calories_statistics = cere_df.describe()['calories']\n",
    "# step3. 해당 값에서 중앙값이 50분위 값을 뺀 25,75 분위 값 삭제 \n",
    "calories_statistics = calories_statistics.drop(['25%','75%'])\n",
    "print(calories_statistics)"
   ]
  },
  {
   "cell_type": "code",
   "execution_count": 53,
   "metadata": {},
   "outputs": [
    {
     "name": "stdout",
     "output_type": "stream",
     "text": [
      "mean      106.883117\n",
      "std        19.484119\n",
      "median    110.000000\n",
      "max       160.000000\n",
      "min        50.000000\n",
      "dtype: float64\n"
     ]
    }
   ],
   "source": [
    "# calories 변수에 대한 요약통계(평균,중앙값,표준편차,최소값,최댓값) 도출방법 2 - 각각 계산하기 \n",
    "a = cere_df['calories'].mean().round(6)\n",
    "# 표준편차 구하기\n",
    "b = cere_df['calories'].std().round(6)\n",
    "#중앙값 구하기\n",
    "c = cere_df['calories'].median().round(6)\n",
    "#최대값\n",
    "d = cere_df['calories'].max().round(6)\n",
    "# 최소값\n",
    "e = cere_df['calories'].min().round(6)\n",
    "\n",
    "\n",
    "# 주어진 값들을 리스트로 만든 후, 시리즈로 변환한 후 다시 데이터 프레임으로 변환\n",
    "values = [a, b, c, d, e]\n",
    "series = pd.Series(values, index=['mean', 'std', 'median', 'max', 'min'])\n",
    "pd.DataFrame(series)\n",
    "\n",
    "# 데이터 프레임을 출력합니다.\n",
    "print(series)"
   ]
  },
  {
   "attachments": {},
   "cell_type": "markdown",
   "metadata": {},
   "source": [
    "### 문제2. \n",
    "보스턴 주택 데이터(BostonHousing.csv)를 이용하여 ‘CRIM’, ‘RM’, ‘AGE’, ‘LSTAT’, ‘MEDV’ 5개의 변수들 간의 상관관계를 모두 구하고, 이를 히트맵으로 시각화하시오. 상관관계 및 히트맵은 python을 이용하여 도출하고, 코드 및 결과 화면을 캡처해서 결과에 대한 간략한 해석과 함께 제출하시오. (상관관계는 소수점 둘째 자리까지 표기)\n",
    "https://github.com/reisanar/datasets/blob/master/BostonHousing.csv"
   ]
  },
  {
   "cell_type": "code",
   "execution_count": null,
   "metadata": {},
   "outputs": [],
   "source": []
  }
 ],
 "metadata": {
  "kernelspec": {
   "display_name": "conda",
   "language": "python",
   "name": "conda"
  },
  "language_info": {
   "codemirror_mode": {
    "name": "ipython",
    "version": 3
   },
   "file_extension": ".py",
   "mimetype": "text/x-python",
   "name": "python",
   "nbconvert_exporter": "python",
   "pygments_lexer": "ipython3",
   "version": "3.9.13"
  },
  "orig_nbformat": 4
 },
 "nbformat": 4,
 "nbformat_minor": 2
}
