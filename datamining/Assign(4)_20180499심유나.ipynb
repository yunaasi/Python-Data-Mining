{
 "cells": [
  {
   "attachments": {},
   "cell_type": "markdown",
   "metadata": {},
   "source": [
    "# 데이터마이닝 4주차 과제"
   ]
  },
  {
   "cell_type": "code",
   "execution_count": 2,
   "metadata": {},
   "outputs": [
    {
     "name": "stdout",
     "output_type": "stream",
     "text": [
      "no display found. Using non-interactive Agg backend\n"
     ]
    }
   ],
   "source": [
    "# 문제 풀이를 위한 모듈 import \n",
    "import pandas as pd\n",
    "import seaborn as sns\n",
    "import dmba "
   ]
  },
  {
   "attachments": {},
   "cell_type": "markdown",
   "metadata": {},
   "source": [
    "### 문제1.\n",
    " 아침 식사용 시리얼 데이터(Cereals.csv)를 이용하여 ‘Calories’ 변수에 대한 요약 통계(평균, 표준편차, 최소값, 최대값, 중앙값)를 도출하시오. 요약 통계는 python을 이 용하여 두 가지 방식(한번에 계산하기, 각각 계산하기)으로 도출하고, 코드 및 결과 화면을 캡처해서 제출하시오.\n",
    "\n",
    "https://github.com/reisanar/datasets/blob/master/Cereals.csv"
   ]
  },
  {
   "cell_type": "code",
   "execution_count": 27,
   "metadata": {},
   "outputs": [
    {
     "data": {
      "text/plain": [
       "(77, 16)"
      ]
     },
     "execution_count": 27,
     "metadata": {},
     "output_type": "execute_result"
    }
   ],
   "source": [
    "# 데이터 불러오기 \n",
    "cere_df = dmba.load_data('Cereals.csv')\n",
    "cere_df.shape"
   ]
  },
  {
   "cell_type": "code",
   "execution_count": 47,
   "metadata": {},
   "outputs": [
    {
     "name": "stdout",
     "output_type": "stream",
     "text": [
      "count     77.000000\n",
      "mean     106.883117\n",
      "std       19.484119\n",
      "min       50.000000\n",
      "50%      110.000000\n",
      "max      160.000000\n",
      "Name: calories, dtype: float64\n"
     ]
    }
   ],
   "source": [
    "# calories 변수에 대한 요약 통계 도출 방법 1\n",
    "\n",
    "# step1. describe 매서드를 활용하여 데이터 프레임 형태로 요약통계 값(평균,표준편차, 최소값, 최대값, 중앙값)을 추출\n",
    "# step2. 추출한 값에서 calories 열만 선택\n",
    "calories_statistics = cere_df.describe()['calories']\n",
    "# step3. 해당 값에서 중앙값이 50분위 값을 뺀 25,75 분위 값 삭제 \n",
    "calories_statistics = calories_statistics.drop(['25%','75%'])\n",
    "print(calories_statistics)"
   ]
  },
  {
   "cell_type": "code",
   "execution_count": 53,
   "metadata": {},
   "outputs": [
    {
     "name": "stdout",
     "output_type": "stream",
     "text": [
      "mean      106.883117\n",
      "std        19.484119\n",
      "median    110.000000\n",
      "max       160.000000\n",
      "min        50.000000\n",
      "dtype: float64\n"
     ]
    }
   ],
   "source": [
    "# calories 변수에 대한 요약통계(평균,중앙값,표준편차,최소값,최댓값) 도출방법 2 - 각각 계산하기 \n",
    "a = cere_df['calories'].mean().round(6)\n",
    "# 표준편차 구하기\n",
    "b = cere_df['calories'].std().round(6)\n",
    "#중앙값 구하기\n",
    "c = cere_df['calories'].median().round(6)\n",
    "#최대값\n",
    "d = cere_df['calories'].max().round(6)\n",
    "# 최소값\n",
    "e = cere_df['calories'].min().round(6)\n",
    "\n",
    "\n",
    "# 주어진 값들을 리스트로 만든 후, 시리즈로 변환한 후 다시 데이터 프레임으로 변환\n",
    "values = [a, b, c, d, e]\n",
    "series = pd.Series(values, index=['mean', 'std', 'median', 'max', 'min'])\n",
    "pd.DataFrame(series)\n",
    "\n",
    "# 데이터 프레임을 출력합니다.\n",
    "print(series)"
   ]
  },
  {
   "attachments": {},
   "cell_type": "markdown",
   "metadata": {},
   "source": [
    "### 문제2. \n",
    "보스턴 주택 데이터(BostonHousing.csv)를 이용하여 ‘CRIM’, ‘RM’, ‘AGE’, ‘LSTAT’, ‘MEDV’ 5개의 변수들 간의 상관관계를 모두 구하고, 이를 히트맵으로 시각화하시오. 상관관계 및 히트맵은 python을 이용하여 도출하고, 코드 및 결과 화면을 캡처해서 결과에 대한 간략한 해석과 함께 제출하시오. (상관관계는 소수점 둘째 자리까지 표기)\n",
    "https://github.com/reisanar/datasets/blob/master/BostonHousing.csv"
   ]
  },
  {
   "cell_type": "code",
   "execution_count": 17,
   "metadata": {},
   "outputs": [],
   "source": [
    "# 라이브러리 불러오기 \n",
    "import pandas as pd\n",
    "import numpy as np\n",
    "import seaborn as sns\n",
    "import matplotlib.pyplot as plt\n",
    "import dmba \n",
    "from sklearn import datasets\n",
    "%matplotlib inline"
   ]
  },
  {
   "cell_type": "code",
   "execution_count": 18,
   "metadata": {},
   "outputs": [
    {
     "name": "stdout",
     "output_type": "stream",
     "text": [
      "Index(['CRIM', 'ZN', 'INDUS', 'CHAS', 'NOX', 'RM', 'AGE', 'DIS', 'RAD', 'TAX',\n",
      "       'PTRATIO', 'LSTAT', 'MEDV', 'CAT. MEDV'],\n",
      "      dtype='object')\n"
     ]
    },
    {
     "data": {
      "text/html": [
       "<div>\n",
       "<style scoped>\n",
       "    .dataframe tbody tr th:only-of-type {\n",
       "        vertical-align: middle;\n",
       "    }\n",
       "\n",
       "    .dataframe tbody tr th {\n",
       "        vertical-align: top;\n",
       "    }\n",
       "\n",
       "    .dataframe thead th {\n",
       "        text-align: right;\n",
       "    }\n",
       "</style>\n",
       "<table border=\"1\" class=\"dataframe\">\n",
       "  <thead>\n",
       "    <tr style=\"text-align: right;\">\n",
       "      <th></th>\n",
       "      <th>CRIM</th>\n",
       "      <th>ZN</th>\n",
       "      <th>INDUS</th>\n",
       "      <th>CHAS</th>\n",
       "      <th>NOX</th>\n",
       "      <th>RM</th>\n",
       "      <th>AGE</th>\n",
       "      <th>DIS</th>\n",
       "      <th>RAD</th>\n",
       "      <th>TAX</th>\n",
       "      <th>PTRATIO</th>\n",
       "      <th>LSTAT</th>\n",
       "      <th>MEDV</th>\n",
       "      <th>CAT. MEDV</th>\n",
       "    </tr>\n",
       "  </thead>\n",
       "  <tbody>\n",
       "    <tr>\n",
       "      <th>0</th>\n",
       "      <td>0.00632</td>\n",
       "      <td>18.0</td>\n",
       "      <td>2.31</td>\n",
       "      <td>0</td>\n",
       "      <td>0.538</td>\n",
       "      <td>6.575</td>\n",
       "      <td>65.2</td>\n",
       "      <td>4.0900</td>\n",
       "      <td>1</td>\n",
       "      <td>296</td>\n",
       "      <td>15.3</td>\n",
       "      <td>4.98</td>\n",
       "      <td>24.0</td>\n",
       "      <td>0</td>\n",
       "    </tr>\n",
       "    <tr>\n",
       "      <th>1</th>\n",
       "      <td>0.02731</td>\n",
       "      <td>0.0</td>\n",
       "      <td>7.07</td>\n",
       "      <td>0</td>\n",
       "      <td>0.469</td>\n",
       "      <td>6.421</td>\n",
       "      <td>78.9</td>\n",
       "      <td>4.9671</td>\n",
       "      <td>2</td>\n",
       "      <td>242</td>\n",
       "      <td>17.8</td>\n",
       "      <td>9.14</td>\n",
       "      <td>21.6</td>\n",
       "      <td>0</td>\n",
       "    </tr>\n",
       "    <tr>\n",
       "      <th>2</th>\n",
       "      <td>0.02729</td>\n",
       "      <td>0.0</td>\n",
       "      <td>7.07</td>\n",
       "      <td>0</td>\n",
       "      <td>0.469</td>\n",
       "      <td>7.185</td>\n",
       "      <td>61.1</td>\n",
       "      <td>4.9671</td>\n",
       "      <td>2</td>\n",
       "      <td>242</td>\n",
       "      <td>17.8</td>\n",
       "      <td>4.03</td>\n",
       "      <td>34.7</td>\n",
       "      <td>1</td>\n",
       "    </tr>\n",
       "    <tr>\n",
       "      <th>3</th>\n",
       "      <td>0.03237</td>\n",
       "      <td>0.0</td>\n",
       "      <td>2.18</td>\n",
       "      <td>0</td>\n",
       "      <td>0.458</td>\n",
       "      <td>6.998</td>\n",
       "      <td>45.8</td>\n",
       "      <td>6.0622</td>\n",
       "      <td>3</td>\n",
       "      <td>222</td>\n",
       "      <td>18.7</td>\n",
       "      <td>2.94</td>\n",
       "      <td>33.4</td>\n",
       "      <td>1</td>\n",
       "    </tr>\n",
       "    <tr>\n",
       "      <th>4</th>\n",
       "      <td>0.06905</td>\n",
       "      <td>0.0</td>\n",
       "      <td>2.18</td>\n",
       "      <td>0</td>\n",
       "      <td>0.458</td>\n",
       "      <td>7.147</td>\n",
       "      <td>54.2</td>\n",
       "      <td>6.0622</td>\n",
       "      <td>3</td>\n",
       "      <td>222</td>\n",
       "      <td>18.7</td>\n",
       "      <td>5.33</td>\n",
       "      <td>36.2</td>\n",
       "      <td>1</td>\n",
       "    </tr>\n",
       "    <tr>\n",
       "      <th>5</th>\n",
       "      <td>0.02985</td>\n",
       "      <td>0.0</td>\n",
       "      <td>2.18</td>\n",
       "      <td>0</td>\n",
       "      <td>0.458</td>\n",
       "      <td>6.430</td>\n",
       "      <td>58.7</td>\n",
       "      <td>6.0622</td>\n",
       "      <td>3</td>\n",
       "      <td>222</td>\n",
       "      <td>18.7</td>\n",
       "      <td>5.21</td>\n",
       "      <td>28.7</td>\n",
       "      <td>0</td>\n",
       "    </tr>\n",
       "    <tr>\n",
       "      <th>6</th>\n",
       "      <td>0.08829</td>\n",
       "      <td>12.5</td>\n",
       "      <td>7.87</td>\n",
       "      <td>0</td>\n",
       "      <td>0.524</td>\n",
       "      <td>6.012</td>\n",
       "      <td>66.6</td>\n",
       "      <td>5.5605</td>\n",
       "      <td>5</td>\n",
       "      <td>311</td>\n",
       "      <td>15.2</td>\n",
       "      <td>12.43</td>\n",
       "      <td>22.9</td>\n",
       "      <td>0</td>\n",
       "    </tr>\n",
       "    <tr>\n",
       "      <th>7</th>\n",
       "      <td>0.14455</td>\n",
       "      <td>12.5</td>\n",
       "      <td>7.87</td>\n",
       "      <td>0</td>\n",
       "      <td>0.524</td>\n",
       "      <td>6.172</td>\n",
       "      <td>96.1</td>\n",
       "      <td>5.9505</td>\n",
       "      <td>5</td>\n",
       "      <td>311</td>\n",
       "      <td>15.2</td>\n",
       "      <td>19.15</td>\n",
       "      <td>27.1</td>\n",
       "      <td>0</td>\n",
       "    </tr>\n",
       "    <tr>\n",
       "      <th>8</th>\n",
       "      <td>0.21124</td>\n",
       "      <td>12.5</td>\n",
       "      <td>7.87</td>\n",
       "      <td>0</td>\n",
       "      <td>0.524</td>\n",
       "      <td>5.631</td>\n",
       "      <td>100.0</td>\n",
       "      <td>6.0821</td>\n",
       "      <td>5</td>\n",
       "      <td>311</td>\n",
       "      <td>15.2</td>\n",
       "      <td>29.93</td>\n",
       "      <td>16.5</td>\n",
       "      <td>0</td>\n",
       "    </tr>\n",
       "    <tr>\n",
       "      <th>9</th>\n",
       "      <td>0.17004</td>\n",
       "      <td>12.5</td>\n",
       "      <td>7.87</td>\n",
       "      <td>0</td>\n",
       "      <td>0.524</td>\n",
       "      <td>6.004</td>\n",
       "      <td>85.9</td>\n",
       "      <td>6.5921</td>\n",
       "      <td>5</td>\n",
       "      <td>311</td>\n",
       "      <td>15.2</td>\n",
       "      <td>17.10</td>\n",
       "      <td>18.9</td>\n",
       "      <td>0</td>\n",
       "    </tr>\n",
       "  </tbody>\n",
       "</table>\n",
       "</div>"
      ],
      "text/plain": [
       "      CRIM    ZN  INDUS  CHAS    NOX     RM    AGE     DIS  RAD  TAX  PTRATIO  \\\n",
       "0  0.00632  18.0   2.31     0  0.538  6.575   65.2  4.0900    1  296     15.3   \n",
       "1  0.02731   0.0   7.07     0  0.469  6.421   78.9  4.9671    2  242     17.8   \n",
       "2  0.02729   0.0   7.07     0  0.469  7.185   61.1  4.9671    2  242     17.8   \n",
       "3  0.03237   0.0   2.18     0  0.458  6.998   45.8  6.0622    3  222     18.7   \n",
       "4  0.06905   0.0   2.18     0  0.458  7.147   54.2  6.0622    3  222     18.7   \n",
       "5  0.02985   0.0   2.18     0  0.458  6.430   58.7  6.0622    3  222     18.7   \n",
       "6  0.08829  12.5   7.87     0  0.524  6.012   66.6  5.5605    5  311     15.2   \n",
       "7  0.14455  12.5   7.87     0  0.524  6.172   96.1  5.9505    5  311     15.2   \n",
       "8  0.21124  12.5   7.87     0  0.524  5.631  100.0  6.0821    5  311     15.2   \n",
       "9  0.17004  12.5   7.87     0  0.524  6.004   85.9  6.5921    5  311     15.2   \n",
       "\n",
       "   LSTAT  MEDV  CAT. MEDV  \n",
       "0   4.98  24.0          0  \n",
       "1   9.14  21.6          0  \n",
       "2   4.03  34.7          1  \n",
       "3   2.94  33.4          1  \n",
       "4   5.33  36.2          1  \n",
       "5   5.21  28.7          0  \n",
       "6  12.43  22.9          0  \n",
       "7  19.15  27.1          0  \n",
       "8  29.93  16.5          0  \n",
       "9  17.10  18.9          0  "
      ]
     },
     "execution_count": 18,
     "metadata": {},
     "output_type": "execute_result"
    }
   ],
   "source": [
    "# 데이터 불러오기 및 columns 값 확인하기 \n",
    "housing_df = dmba.load_data('BostonHousing.csv')\n",
    "print(housing_df.columns)\n",
    "housing_df.head(10)"
   ]
  },
  {
   "cell_type": "code",
   "execution_count": 19,
   "metadata": {},
   "outputs": [
    {
     "name": "stdout",
     "output_type": "stream",
     "text": [
      "<class 'pandas.core.frame.DataFrame'>\n",
      "RangeIndex: 506 entries, 0 to 505\n",
      "Data columns (total 14 columns):\n",
      " #   Column     Non-Null Count  Dtype  \n",
      "---  ------     --------------  -----  \n",
      " 0   CRIM       506 non-null    float64\n",
      " 1   ZN         506 non-null    float64\n",
      " 2   INDUS      506 non-null    float64\n",
      " 3   CHAS       506 non-null    int64  \n",
      " 4   NOX        506 non-null    float64\n",
      " 5   RM         506 non-null    float64\n",
      " 6   AGE        506 non-null    float64\n",
      " 7   DIS        506 non-null    float64\n",
      " 8   RAD        506 non-null    int64  \n",
      " 9   TAX        506 non-null    int64  \n",
      " 10  PTRATIO    506 non-null    float64\n",
      " 11  LSTAT      506 non-null    float64\n",
      " 12  MEDV       506 non-null    float64\n",
      " 13  CAT. MEDV  506 non-null    int64  \n",
      "dtypes: float64(10), int64(4)\n",
      "memory usage: 55.5 KB\n"
     ]
    },
    {
     "data": {
      "text/plain": [
       "CRIM         0\n",
       "ZN           0\n",
       "INDUS        0\n",
       "CHAS         0\n",
       "NOX          0\n",
       "RM           0\n",
       "AGE          0\n",
       "DIS          0\n",
       "RAD          0\n",
       "TAX          0\n",
       "PTRATIO      0\n",
       "LSTAT        0\n",
       "MEDV         0\n",
       "CAT. MEDV    0\n",
       "dtype: int64"
      ]
     },
     "execution_count": 19,
     "metadata": {},
     "output_type": "execute_result"
    }
   ],
   "source": [
    "#데이터 활용을 위한 데이터 기본 정보 확인 \n",
    "housing_df.info()\n",
    "# 데이터 결측값 확인\n",
    "housing_df.isnull().sum()"
   ]
  },
  {
   "cell_type": "code",
   "execution_count": 20,
   "metadata": {},
   "outputs": [
    {
     "data": {
      "text/plain": [
       "['CRIM', 'RM', 'AGE', 'LSTAT', 'MEDV']"
      ]
     },
     "execution_count": 20,
     "metadata": {},
     "output_type": "execute_result"
    }
   ],
   "source": [
    "#활용할 컬럼 설정  CRIM’, ‘RM’, ‘AGE’, ‘LSTAT’, ‘MEDV’ 5개의 변수\n",
    "columns = ['CRIM','RM','AGE', 'LSTAT','MEDV']\n",
    "columns"
   ]
  },
  {
   "cell_type": "code",
   "execution_count": 21,
   "metadata": {},
   "outputs": [
    {
     "data": {
      "image/png": "[encoded data removed]",
      "text/plain": [
       "<Figure size 500x500 with 2 Axes>"
      ]
     },
     "metadata": {},
     "output_type": "display_data"
    }
   ],
   "source": [
    "housing_df = housing_df[columns]\n",
    "\n",
    "# 상관관계 히트맵 그리기 \n",
    "corr = housing_df.corr()\n",
    "plt.figure(figsize=(5,5))\n",
    "sns.set(font_scale = 0.8)\n",
    "sns.heatmap(corr,xticklabels =corr.columns , yticklabels = corr.columns, vmin =-1, vmax =1 ,cmap=\"RdBu\",annot=True)\n",
    "plt.show()"
   ]
  },
  {
   "attachments": {},
   "cell_type": "markdown",
   "metadata": {},
   "source": [
    "히드맵에서 r 값인 상관 계수는 x와 y가 완전히 동일하면 +1, 전혀 다르면 0(무상관 관계), 반대 방향으로 완전히 동일하면 -1을 가진다.\n",
    "즉 1이거나 -1에 가까울수록 두 변수는 밀접하게 관계가 있다고 볼 수 있다. \n",
    "\n",
    "가장 큰 양의 산관관계(정적인 상관관계)를 보이고 있는 변수는 MEDV 와 RM 이다. 이들은 0.7로 매우 강한 양적 선형관계를 이루고 있다고 볼 수 있다.\n",
    "양의 상관관계이기 때문에 한 변수의 값이 증가할 경우, 다른 변수의 값도 증가하는 관계를 갖고 있는 것을 의미한다.\n",
    "데이터를 해석하자면 RM과 MEDV는 각각 거주 목적의 방의 개수와 소유주 거주 주택의 주택가격(중간값)을 나타내기 때문에 방의 개수가 증가하면,\n",
    "주택가격 역시 증가한다는 것을 의미한다. \n",
    "\n",
    "가장 큰 음의 상관관계(부적인 상관관계)를 보이는 값은 LSTAT와 MEDV 이다. 이들은 0.74로 매우 강한 음적 선형 관계를 이루고 있다고 볼 수 있다.\n",
    "음의 상관관계이기 때문에 한 변수의 값이 증가시, 다른 변수가 감소하는 관계를 갖고 있는 것을 의미한다.\n",
    "데이터를 해석하자면  LSTAT와 MEDV는 각각 저소득층 비율과 소유주 거주 주택의 주택 가격을 나타내기 때문에 주택 가격이 증가하면, 해당 지역의 저소득층 비율이 감소한다는 것을 의미한다.\n",
    "\n",
    "\n",
    "\n",
    "그외 간단히 볼 수 있는 것은 뚜렷한 선형 관계를 보이고 있는 값들 이다. \n",
    "CRIM과 LSTAT는 0.46으로 뚜렷한 양적 선형 관계를 보이고 있다.  CRIM과 LSTAT는 각각 범죄 발생률과 저소득층 비율을 보여주는데, 이를 해석하면 저소득층이 증가할 경우, \n",
    "해당 지역의 1인당 범죄 발생률도 같이 증가한다고 볼 수 있다.\n",
    "\n",
    "또, RM과 LSTAT는 -0.61으로 뚜렷한 음적 선형 관계를 보이고 있다. RM과 LSTAT는 각각 방의 개수와 저소득층 비율을 보여주는데, 음적 선형관계에 따라 한 변수의 값이 증가하면 다른 변수의 값이 감소하는 것을 의미한다. 이 데이터의 경우, 방의 개수가 증가하는 경우, 저소득층 비율은 반대로 감소할 것이라는 것을 해석할 수 있다. 이 값은 앞서 보았던 강한 양적 관계 값을 나타내는 해석결과 값들과도 연관된다고 볼 수 있다. "
   ]
  }
 ],
 "metadata": {
  "kernelspec": {
   "display_name": "conda",
   "language": "python",
   "name": "conda"
  },
  "language_info": {
   "codemirror_mode": {
    "name": "ipython",
    "version": 3
   },
   "file_extension": ".py",
   "mimetype": "text/x-python",
   "name": "python",
   "nbconvert_exporter": "python",
   "pygments_lexer": "ipython3",
   "version": "3.9.13"
  },
  "orig_nbformat": 4
 },
 "nbformat": 4,
 "nbformat_minor": 2
}
