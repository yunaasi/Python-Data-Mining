{
 "cells": [
  {
   "cell_type": "markdown",
   "metadata": {},
   "source": [
    "### 2. 잔디깎이 기계 데이터(RidingMowers.csv)를 이용하여 아래 두 문항에 대해 답하시오.\n",
    "> https://github.com/reisanar/datasets/blob/master/RidingMowers.csv\n"
   ]
  },
  {
   "cell_type": "markdown",
   "metadata": {},
   "source": [
    "### ① K-NN 분류기에서 이웃 결정 시 가장 보편적으로 사용되는 거리 측도는 유클리드 거리다. 해당 측도가 적합하지 않은 상황과 그 이유에 대해 간략히 서술하시오.\n",
    "\n",
    "> 유클리드 거리 측도가 적합하지 않은 상황은 큰 차원의 데이터인 상황이 있습니다.\n",
    "\n",
    "- 유클리드 거리는 각 변수(또는 차원) 사이의 차이를 제곱하여 더한 후 제곱근을 취한 값으로, 데이터 간 거리를 계산하는 가장 보편적인 방법 중 하나입니다. 하지만 차원이 증가할수록 변수들 간의 거리가 급격히 커지면서, 데이터의 분포가 희소해지는 문제가 발생하기때문에 해당 이렇게 데이터의 차원이 큰 경우 해당 측도가 적합하지 않습니다. => 이러한 경우를 <차원의 저주>라고 부름\n",
    "\n",
    "- 차원의 저주는 데이터 간 거리 측정에 대한 문제를 초래하며, 이로 인해 예측 모델의 성능이 저하시킬 수 있기 때문에 이렇게 데이터의 차원이 큰 경우에는 해당 측도가 적합하지 않습니다. 이런 경우, 차원 축소 기법 등을 사용하여 데이터의 차원을 줄여주는 방식을 통해 성능을 개선할 수 있습니다."
   ]
  },
  {
   "cell_type": "markdown",
   "metadata": {},
   "source": [
    "----------------------------------------------------------------------------------------------------------------------------------------------------------------------------------------------------------------------------------------------------------------------------------------------------------------"
   ]
  },
  {
   "cell_type": "markdown",
   "metadata": {},
   "source": [
    "### ② K-NN 분류기는 K 값에 민감한 경향을 보인다. K ∈ {1, 5, 10, 15} 에 대한 검증 정확도(accuracy)를 측정한 후, 가장 적합한 K 값을 선택하고 이에 대한 이유를 간략히 서술하시오."
   ]
  },
  {
   "cell_type": "markdown",
   "metadata": {},
   "source": [
    "> 위의 K-NN 분류기를 통해 나온 코드 결과 값을 통해 가장 적합한 K 값은 5라고 생각했습니다. \n",
    "\n",
    "가장 높은 정확도를 가지고 있는 K = 10 과 k = 5 인 두가지 경우 중, k가 5인 경우가 적합하다고 생각한 이유는 다음과 같습니다.\n",
    "\n",
    "- 첫째, k 값이 10일 경우 가장 높은 정확도를 보이지만 짝수이기 때문에 분류를 할 때 5:5로 분류 기준이 동일할 경우 분류가 어려워질 수 있다고 판단하여,홀수 인 값인 1,5,15 중 하나를 선택하는 것이 적합하다고 생각했습니다.\n",
    "\n",
    "- 둘째, k 가 10인 경우는 k가 5인 경우에 비해 판단을 위한 값들이 너무 많이 퍼져있어, 데이터의 지역적 구조를 파악할 수 있는 능력을 놓칠 수 있다고 생각하였습니다.(underfitting의 가능성이 높아짐)\n",
    "\n",
    "- 결과적으로, 하이퍼 파라미터 값을 변동 시켜서 나온 성능 판단에서 정확도가 높은 k 값 5,10 중 홀수이면서, 데이터가 너무 퍼져있어 오분류의 위험이 적은 값을 선택한 결과 <k = 5> 인 경우가 가장 적합한 값이라고 생각했습니다.\n"
   ]
  },
  {
   "cell_type": "code",
   "execution_count": 63,
   "metadata": {},
   "outputs": [],
   "source": [
    "import pandas as pd\n",
    "from sklearn import preprocessing\n",
    "from sklearn.model_selection import train_test_split\n",
    "from sklearn.metrics import accuracy_score\n",
    "from sklearn.neighbors import NearestNeighbors,KNeighborsClassifier\n",
    "import matplotlib.pylab as plt\n",
    "import dmba"
   ]
  },
  {
   "cell_type": "code",
   "execution_count": 64,
   "metadata": {},
   "outputs": [
    {
     "data": {
      "text/html": [
       "<div>\n",
       "<style scoped>\n",
       "    .dataframe tbody tr th:only-of-type {\n",
       "        vertical-align: middle;\n",
       "    }\n",
       "\n",
       "    .dataframe tbody tr th {\n",
       "        vertical-align: top;\n",
       "    }\n",
       "\n",
       "    .dataframe thead th {\n",
       "        text-align: right;\n",
       "    }\n",
       "</style>\n",
       "<table border=\"1\" class=\"dataframe\">\n",
       "  <thead>\n",
       "    <tr style=\"text-align: right;\">\n",
       "      <th></th>\n",
       "      <th>Income</th>\n",
       "      <th>Lot_Size</th>\n",
       "      <th>Ownership</th>\n",
       "      <th>Number</th>\n",
       "    </tr>\n",
       "  </thead>\n",
       "  <tbody>\n",
       "    <tr>\n",
       "      <th>0</th>\n",
       "      <td>60.0</td>\n",
       "      <td>18.4</td>\n",
       "      <td>Owner</td>\n",
       "      <td>1</td>\n",
       "    </tr>\n",
       "    <tr>\n",
       "      <th>1</th>\n",
       "      <td>85.5</td>\n",
       "      <td>16.8</td>\n",
       "      <td>Owner</td>\n",
       "      <td>2</td>\n",
       "    </tr>\n",
       "    <tr>\n",
       "      <th>2</th>\n",
       "      <td>64.8</td>\n",
       "      <td>21.6</td>\n",
       "      <td>Owner</td>\n",
       "      <td>3</td>\n",
       "    </tr>\n",
       "    <tr>\n",
       "      <th>3</th>\n",
       "      <td>61.5</td>\n",
       "      <td>20.8</td>\n",
       "      <td>Owner</td>\n",
       "      <td>4</td>\n",
       "    </tr>\n",
       "    <tr>\n",
       "      <th>4</th>\n",
       "      <td>87.0</td>\n",
       "      <td>23.6</td>\n",
       "      <td>Owner</td>\n",
       "      <td>5</td>\n",
       "    </tr>\n",
       "  </tbody>\n",
       "</table>\n",
       "</div>"
      ],
      "text/plain": [
       "   Income  Lot_Size Ownership  Number\n",
       "0    60.0      18.4     Owner       1\n",
       "1    85.5      16.8     Owner       2\n",
       "2    64.8      21.6     Owner       3\n",
       "3    61.5      20.8     Owner       4\n",
       "4    87.0      23.6     Owner       5"
      ]
     },
     "execution_count": 64,
     "metadata": {},
     "output_type": "execute_result"
    }
   ],
   "source": [
    "# 데이터 준비 \n",
    "mower_df = dmba.load_data('RidingMowers.csv')\n",
    "mower_df['Number'] = mower_df.index + 1 # 인덱스 처리\n",
    "mower_df.head(5)"
   ]
  },
  {
   "cell_type": "code",
   "execution_count": 65,
   "metadata": {},
   "outputs": [
    {
     "name": "stdout",
     "output_type": "stream",
     "text": [
      "<class 'pandas.core.frame.DataFrame'>\n",
      "RangeIndex: 24 entries, 0 to 23\n",
      "Data columns (total 4 columns):\n",
      " #   Column     Non-Null Count  Dtype  \n",
      "---  ------     --------------  -----  \n",
      " 0   Income     24 non-null     float64\n",
      " 1   Lot_Size   24 non-null     float64\n",
      " 2   Ownership  24 non-null     object \n",
      " 3   Number     24 non-null     int64  \n",
      "dtypes: float64(2), int64(1), object(1)\n",
      "memory usage: 896.0+ bytes\n",
      "None\n"
     ]
    }
   ],
   "source": [
    "# 누락데이터 및 유효데이터 확인을 통해 전처리할 내용 확인\n",
    "print(mower_df.info())"
   ]
  },
  {
   "cell_type": "code",
   "execution_count": 66,
   "metadata": {},
   "outputs": [
    {
     "name": "stdout",
     "output_type": "stream",
     "text": [
      "(16, 4) (8, 4)\n"
     ]
    },
    {
     "data": {
      "text/html": [
       "<div>\n",
       "<style scoped>\n",
       "    .dataframe tbody tr th:only-of-type {\n",
       "        vertical-align: middle;\n",
       "    }\n",
       "\n",
       "    .dataframe tbody tr th {\n",
       "        vertical-align: top;\n",
       "    }\n",
       "\n",
       "    .dataframe thead th {\n",
       "        text-align: right;\n",
       "    }\n",
       "</style>\n",
       "<table border=\"1\" class=\"dataframe\">\n",
       "  <thead>\n",
       "    <tr style=\"text-align: right;\">\n",
       "      <th></th>\n",
       "      <th>Income</th>\n",
       "      <th>Lot_Size</th>\n",
       "    </tr>\n",
       "  </thead>\n",
       "  <tbody>\n",
       "    <tr>\n",
       "      <th>0</th>\n",
       "      <td>60</td>\n",
       "      <td>20</td>\n",
       "    </tr>\n",
       "  </tbody>\n",
       "</table>\n",
       "</div>"
      ],
      "text/plain": [
       "   Income  Lot_Size\n",
       "0      60        20"
      ]
     },
     "execution_count": 66,
     "metadata": {},
     "output_type": "execute_result"
    }
   ],
   "source": [
    "# i. Training dataset과 validation dataset을 7:3으로 분할하고, 이 때 random_state는 42로 설정하시오.\n",
    "trainData, validData = train_test_split(mower_df, test_size= 0.3, random_state= 42)\n",
    "print(trainData.shape, validData.shape)\n",
    "\n",
    "newHousehold = pd.DataFrame([{'Income' : 60, 'Lot_Size' : 20}])\n",
    "newHousehold "
   ]
  },
  {
   "cell_type": "code",
   "execution_count": 67,
   "metadata": {},
   "outputs": [],
   "source": [
    "# ii. ‘Income’과 ‘Lot_Size’에 대해 StandardScaler를 이용하여 정규화하고, 이를 변수로 사용하시오.\n",
    "# 정규화된 학습, 검증 및 전체 데이터 프레임 초기화\n",
    "scaler = preprocessing.StandardScaler()\n",
    "scaler.fit(trainData[['Income', 'Lot_Size']])\n",
    "\n",
    "# 전체 데이터 변환\n",
    "mowerNorm = pd.concat([pd.DataFrame(scaler.transform(mower_df[['Income','Lot_Size']]),\n",
    "                                    columns=['zIncome','zLot_Size']), mower_df[['Ownership','Number']]],axis=1)\n",
    "trainNorm = mowerNorm.iloc[trainData.index]\n",
    "validNorm = mowerNorm.iloc[validData.index]\n",
    "newHouseholdNorm = pd.DataFrame(scaler.transform(newHousehold),columns=['zIncome','zLot_Size'])"
   ]
  },
  {
   "cell_type": "code",
   "execution_count": 68,
   "metadata": {},
   "outputs": [
    {
     "name": "stdout",
     "output_type": "stream",
     "text": [
      "   검증한 k 값  정확도 accuracy\n",
      "0        1         0.375\n",
      "1        5         0.500\n",
      "2       10         0.625\n",
      "3       15         0.375\n"
     ]
    }
   ],
   "source": [
    "# iii. ‘Ownership’을 Y값으로 설정하시오.\n",
    "\n",
    "# 훈련, 검증 데이터 분할 후 k의 값에 따른 민감도를 측정해 가장 정확한 숫자 판단\n",
    "train_X = trainNorm[['zIncome','zLot_Size']]\n",
    "train_y = trainNorm['Ownership']\n",
    "valid_X = validNorm[['zIncome','zLot_Size']]\n",
    "valid_y = validNorm['Ownership']\n",
    "\n",
    "# k에 1,5,10,15를 넣어보고 검증 정확도 측정하기\n",
    "results = []\n",
    "for k in [1, 5, 10, 15]:\n",
    "    knn = KNeighborsClassifier(n_neighbors=k).fit(train_X, train_y)\n",
    "    results.append({\n",
    "        '검증한 k 값': k,\n",
    "        '정확도 accuracy': accuracy_score(valid_y, knn.predict(valid_X))\n",
    "    })\n",
    "    \n",
    "# 결과값을 데이터 프레임으로 변환\n",
    "results = pd.DataFrame(results)\n",
    "print(results)"
   ]
  }
 ],
 "metadata": {
  "kernelspec": {
   "display_name": "conda",
   "language": "python",
   "name": "conda"
  },
  "language_info": {
   "codemirror_mode": {
    "name": "ipython",
    "version": 3
   },
   "file_extension": ".py",
   "mimetype": "text/x-python",
   "name": "python",
   "nbconvert_exporter": "python",
   "pygments_lexer": "ipython3",
   "version": "3.9.13"
  }
 },
 "nbformat": 4,
 "nbformat_minor": 2
}
