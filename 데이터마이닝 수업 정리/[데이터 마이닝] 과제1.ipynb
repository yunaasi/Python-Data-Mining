{
 "cells": [
  {
   "attachments": {},
   "cell_type": "markdown",
   "metadata": {},
   "source": [
    "## [데이터마이닝] 과제1 \n",
    "ToyotaCorolla.csv 데이터에서\n",
    "- fuel_type 변수와 color 변수를 pandas를 활용하여 가변수로 변환하라\n",
    "- 학습 50%, 검증 30%, 시험 20%로 분할하고 역할을 설명하라\n",
    "\n",
    ">Addendum\n",
    "- 본 데이터를 대상으로 본인이 현재까지 알고 있는 지식을 활용하여 데이터 마이닝적 관점에서 분석 및 해석\n",
    "\n",
    ">경로\n",
    "/Users/shimyuna/Desktop/✳︎/Python-Data-Mining/데이터마이닝 수업 정리/ToyotaCorolla.csv"
   ]
  },
  {
   "cell_type": "markdown",
   "metadata": {},
   "source": []
  }
 ],
 "metadata": {
  "kernelspec": {
   "display_name": "conda",
   "language": "python",
   "name": "conda"
  },
  "language_info": {
   "name": "python",
   "version": "3.9.13"
  },
  "orig_nbformat": 4
 },
 "nbformat": 4,
 "nbformat_minor": 2
}
