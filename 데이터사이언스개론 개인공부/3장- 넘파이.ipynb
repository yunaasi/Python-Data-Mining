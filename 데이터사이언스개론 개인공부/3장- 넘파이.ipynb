{
 "cells": [
  {
   "attachments": {},
   "cell_type": "markdown",
   "metadata": {},
   "source": [
    "# [Part2] 데이터 과학을 위한 파이썬 \n",
    "\n",
    "\n",
    "1. 행렬/선형대수/통계: 넘파이(NumPy) - 행렬 기반의 데이터 처리, 데이터 분석의 가장 기본이 되는 라이브러리\n",
    "2. 데이터 프로세싱 : 판다스(Pandas) - 2차원 데이터 처리에 효율적인 라이브러리\n",
    "3. 시각화 : 맷플롯립(Matplotib), 시본(Seaborn) - 2차원과 3차원 데이터 그래프를 통한 시각화 \n",
    "4. 수학,과학,통계분석 : 사이파이(Sipy) - 통계 과학 분석에 많이 사용되는 라이브러리\n",
    "5. 머신러닝 : 사이킷런(Scikt-Learn) - 머신러닝에 가장 핵심이 되는 라이브러리 \n",
    "\n",
    "\n",
    "\n",
    ">넘파이(NumPy)\n",
    "- 넘파이는 Numerical Python을 의미하며 파이썬에 배열, 리스트 등과 선형대수, 통계 데이터를 다룰 때 자주 사용한다.\n",
    "- 다차원 배열, Ndarray 를 통해 빠른 배열 계산\n",
    "- C,C++,포트란으로 작성한 코드를 연결할 수 있는 호환 API를 제공한다. 넘파이 자체가 빠른 연산 속도를 제공하지만 수행 성능이 더 뛰어나야 하는 부분은 C/C++ 기반의 코드로 작성해서 넘파이에서 호출하는 방식으로 사용할 수 있다.\n",
    "- 선형대수, 난수 생성 기능을 제공"
   ]
  },
  {
   "attachments": {},
   "cell_type": "markdown",
   "metadata": {},
   "source": []
  },
  {
   "attachments": {},
   "cell_type": "markdown",
   "metadata": {},
   "source": [
    "### 7-1. 배열(넘파이 배열)\n",
    "https://datascienceschool.net/01%20python/03.01%20%EB%84%98%ED%8C%8C%EC%9D%B4%20%EB%B0%B0%EC%97%B4.html\n",
    "\n",
    "- 많은 숫자 데이터를 하나의 변수에 넣고 관리할 때 리스트는 속도가 느리고 메모리를 많이 차지한다는 단점이 있다.\n",
    "    - 배열(Array)을 사용하면, 적은 메모리로 많은 데이터를 빠르게 처리 가능하다.배열은 넘파이의 핵심 기능으로 다차원의 배열을 통해 대규모 데이터   \n",
    "    집합을 생성 및 처리할 수 있는 빠르고 효율적인 자료형이다.(기본적으로 1차원 배열을 벡터, 2차원 배열을 행렬이라고 칭하기도 한다.)\n",
    "    \n",
    "    - 배열은 리스트와 비슷하지만 두가지 측면에서 차이점을 갖고 있다.\n",
    "    \n",
    "        (1) 모든 원소가 같은 자료형이어야 한다.\n",
    "        (2) 원소의 갯수를 바꿀 수 없다."
   ]
  },
  {
   "cell_type": "code",
   "execution_count": 19,
   "metadata": {},
   "outputs": [],
   "source": [
    "# numpy package import - 배열을 사용하기 위해 패키지 임포트\n",
    "import numpy as np"
   ]
  },
  {
   "attachments": {},
   "cell_type": "markdown",
   "metadata": {},
   "source": [
    "> 1차원 배열 만들기 \n",
    "> 벡터화 연산\n",
    "- 배열 객체는 배열의 각 원소에 대한 반복 연산을 하나의 명령어로 처리하는 벡터화 연산을(vectorized operation)을 지원한다."
   ]
  },
  {
   "cell_type": "code",
   "execution_count": 20,
   "metadata": {},
   "outputs": [
    {
     "name": "stdout",
     "output_type": "stream",
     "text": [
      "answer_1 [0, 2, 4, 6, 8, 10, 12, 14, 16, 18]\n",
      "answer_2 [ 0  2  4  6  8 10 12 14 16 18]\n",
      "[0, 1, 2, 3, 4, 5, 0, 1, 2, 3, 4, 5]\n"
     ]
    }
   ],
   "source": [
    "# 예시 - 일반 리스트 객체에 데이터의 값을 모두 2배 해야하는 경우\n",
    "\n",
    "data = [0, 1, 2, 3, 4, 5, 6, 7, 8, 9]\n",
    "\n",
    "## for반복문 사용하는 경우\n",
    "answer_1 = []\n",
    "for di in data:\n",
    "    answer_1.append(2 * di)\n",
    "answer_1\n",
    "print('answer_1',answer_1)\n",
    "\n",
    "## 벡터화 연산을 사용하면, 반복문이 필요 없이 한번의 연산으로도 연산이 가능해진다.(속도 역시 반복문 대비 급상승)\n",
    "x = np.array(data)\n",
    "answer_2 =2 * x\n",
    "print('answer_2', answer_2)\n",
    "\n",
    "### 일반적인 리스트 객체에 정수를 곱하면, 객체의 크기가 정수배 만큼으로 증가함\n",
    "L = [0,1,2,3,4,5]\n",
    "print(2*L)"
   ]
  },
  {
   "attachments": {},
   "cell_type": "markdown",
   "metadata": {},
   "source": [
    "> 2차원 배열 만들기 \n",
    "\n",
    "- narray는 N-dimensional Array의 약자로, N차원 배열을 의미하며 1,2,3,..N차 등의 다차원 자료구조를 지원한다.\n",
    "- 2차원 배열은 행렬(matrix)이라고 하는데 행렬에서는 가로줄을 행(row)이라고 하고 세로줄을 열(column)이라고 부른다.\n",
    "- 안쪽 리스트의 길이는 행렬의 열의 수 즉, 가로 크기가 되고 바깥쪽 리스트의 길이는 행렬의 행의 수, 즉 세로 크기가 된다. 예를 들어 2개의 행과 3개의 열을 가지는 2 x 3 배열은 다음과 같이 만든다."
   ]
  },
  {
   "cell_type": "code",
   "execution_count": 21,
   "metadata": {},
   "outputs": [
    {
     "name": "stdout",
     "output_type": "stream",
     "text": [
      "[[0 1 2]\n",
      " [3 4 5]]\n",
      "행의 갯수 2\n",
      "열의 갯수 3\n"
     ]
    }
   ],
   "source": [
    "c = np.array([[0, 1, 2], [3, 4, 5]])  # 2 x 3 array\n",
    "print(c)\n",
    "\n",
    "# 2차원 배열의 행과 열의 갯수는 다음처럼 구한다.\n",
    "# 행의 갯수\n",
    "print('행의 갯수',len(c))\n",
    "\n",
    "# 열의 갯수\n",
    "print('열의 갯수',len(c[0]))"
   ]
  },
  {
   "attachments": {},
   "cell_type": "markdown",
   "metadata": {},
   "source": [
    "> 예제 1. 아래와 같이 학생들의 중간고사 및 기말고사 성적을 저장한 리스트가 있다고 가정하자.\n",
    "    mid_scores = [10,20,30], final_scores = [70,80,90]\n",
    "    mid_scores는 학생 3명의 중간 고사 성적을 저장하고, final_scores는 기말고사 성적을 저장하고 있는데, 각 학생들의 중간 고사 성적과 기말고사 성적을 합하여 총점(total)이라는 리스트를 만들고자 한다."
   ]
  },
  {
   "cell_type": "code",
   "execution_count": 22,
   "metadata": {},
   "outputs": [
    {
     "name": "stdout",
     "output_type": "stream",
     "text": [
      "시험 성적의 합계 [ 80 100 120]\n",
      "시험 성적의 평균 [40. 50. 60.]\n"
     ]
    }
   ],
   "source": [
    "import numpy as np\n",
    "# 문제에서 제공된 데이터\n",
    "mid_scores = [10,20,30]\n",
    "final_scores = [70,80,90]\n",
    "\n",
    "#기본 데이터 배열로 처리하기 np.array()\n",
    "mid_scores = np.array(mid_scores)\n",
    "final_scores = np.array(final_scores)\n",
    "\n",
    "# 총점(total)구하기\n",
    "total = mid_scores + final_scores\n",
    "\n",
    "# 시험 성적의 합계와 평균 구하기 \n",
    "print('시험 성적의 합계', total)\n",
    "print('시험 성적의 평균', total/2)"
   ]
  },
  {
   "attachments": {},
   "cell_type": "markdown",
   "metadata": {},
   "source": [
    "### 7-1-1. 배열의 생성과 정보 확인하기 \n",
    "\n",
    "> ndarray, 배열의 차원과 크기 알아내기 \n",
    "\n",
    "- dtype : 타입을 알려준다.\n",
    "    - astype() 함수 : astype 함수를 이용해 배열의 자료형 변경 가능\n",
    "- ndim  : 차원을 알려준다.\n",
    "- shape : 행렬의 크기를 알려준다.\n",
    "- size  : 행렬의 개수를 알려준다. \n",
    "\n",
    "\n",
    "> ndarray 배열(numpy 배열유형) 생성 함수  : numpy는 배열을 생성하기 위해 다양한 함수를 지원한다. \n",
    "    \n",
    "    https://datascienceschool.net/01%20python/03.02%20%EB%B0%B0%EC%97%B4%EC%9D%98%20%EC%83%9D%EC%84%B1%EA%B3%BC%20%EB%B3%80%ED%98%95.html\n",
    "\n",
    "- array : 매개변수로 입력된 데이터에 따라 ndarray로 변환하고, 자료형은 dtype으로 정하지 않은 경우, 데이터에 기반하여 정해진다.\n",
    "- zeros : 요소 값을 0으로 채운다.\n",
    "- ones  : 요소 값을 1로 채운다.\n",
    "- empty : 크기만 지정한 후, 임의의 값이 채워진다.\n",
    "- arrange : range 함수와 유사하지만 리스트가 아닌 ndarray를 반환한다. \n",
    "- full  : 특정 값으로 배열 크기와 매개 변수를 채운다"
   ]
  },
  {
   "cell_type": "markdown",
   "metadata": {},
   "source": []
  },
  {
   "cell_type": "code",
   "execution_count": 23,
   "metadata": {},
   "outputs": [
    {
     "name": "stdout",
     "output_type": "stream",
     "text": [
      "vector_1 [1 2 3 4 5] <class 'numpy.ndarray'>\n",
      "matrix_1 [[1 2 3]\n",
      " [4 5 6]] <class 'numpy.ndarray'>\n",
      "matrix_2 [[1. 2. 3.]\n",
      " [4. 5. 6.]] <class 'numpy.ndarray'>\n",
      "matrix_3 [[1 2 3]\n",
      " [4 5 6]\n",
      " [7 8 9]] <class 'numpy.ndarray'>\n",
      "\n",
      ">>데이터 차원 알아보기\n",
      "1\n",
      "2\n",
      "2\n",
      "2\n",
      "\n",
      ">>행렬의 크기 알아보기\n",
      "(5,)\n",
      "(3, 3)\n",
      "(2, 3)\n",
      "(2, 3)\n",
      "\n",
      ">>행렬의 개수 알아보기\n",
      "5\n",
      "6\n",
      "6\n"
     ]
    }
   ],
   "source": [
    "# ndarray 생성\n",
    "\n",
    "# 1차원 형태 만들기/ 벡터(vector) - 리스트 생성 후, np.array 함수에 변수를 넣어주어 리스트를 객체(즉, 배열)로 변환해준다.\n",
    "data_1 = [1,2,3,4,5]\n",
    "vector_1 = np.array(data_1)\n",
    "\n",
    "# 2차원 형태 만들기 / 행렬(Matrix) \n",
    "data_2 = [[1,2,3], [4,5,6]]\n",
    "data_3 = [[1.,2,3.0],[4,5.0,6]]\n",
    "\n",
    "matrix_1 = np.array(data_2)\n",
    "matrix_2 = np.array(data_3)\n",
    "matrix_3 = np.array([[1,2,3], [4,5,6],[7,8,9]])\n",
    "\n",
    "### print하여 해당 값들이 제대로 생성 되었는지 확인하고, type()함수를 통해 배열형태로 변환되었는지 확인하기 \n",
    "print('vector_1', vector_1, type(vector_1))\n",
    "print('matrix_1', matrix_1, type(matrix_1))\n",
    "print('matrix_2', matrix_2, type(matrix_2))\n",
    "print('matrix_3', matrix_3, type(matrix_3))\n",
    "\n",
    "\n",
    "## 데이터의  차원, 행렬 크기, 행렬 개수 알아보기\n",
    "print()\n",
    "print(\">>데이터 차원 알아보기\")\n",
    "print(vector_1.ndim) # 1차원 벡터 \n",
    "print(matrix_1.ndim) # 2 차원 행렬\n",
    "print(matrix_2.ndim) \n",
    "print(matrix_3.ndim)\n",
    "\n",
    "print()\n",
    "print(\">>행렬의 크기 알아보기\")\n",
    "print(vector_1.shape)\n",
    "print(matrix_3.shape)\n",
    "print(matrix_2.shape)\n",
    "print(matrix_1.shape)\n",
    "\n",
    "print()\n",
    "print(\">>행렬의 개수 알아보기\")\n",
    "print(vector_1.size)\n",
    "print(matrix_1.size)\n",
    "print(matrix_2.size)\n"
   ]
  },
  {
   "attachments": {},
   "cell_type": "markdown",
   "metadata": {},
   "source": [
    "### 7-2. 배열의 인덱싱\n",
    "https://datascienceschool.net/01%20python/03.01%20%EB%84%98%ED%8C%8C%EC%9D%B4%20%EB%B0%B0%EC%97%B4.html#id8\n",
    "\n",
    "> 일차원 배열의 인덱싱 \n",
    "- 일차원 배열(벡터)의 인덱싱은 리스트 인덱싱과 동일하다\n",
    "- 1차원 인덱싱은 0부터 시작한다는 것만 알고 있으면 손 쉽게 위치 파악 가능\n",
    "\n",
    "> 다차원 배열의 인덱싱\n",
    "- 다차원 배열일 경우, 콤마를 사용하여 접근 가능하다.\n",
    "- 콤마를 축(axis)라고도 한다.\n"
   ]
  },
  {
   "cell_type": "code",
   "execution_count": 24,
   "metadata": {},
   "outputs": [
    {
     "data": {
      "text/plain": [
       "5"
      ]
     },
     "execution_count": 24,
     "metadata": {},
     "output_type": "execute_result"
    }
   ],
   "source": [
    "# 일차원 배열 인덱싱 \n",
    "a = np.array([0, 1, 2, 3, 4])\n",
    "\n",
    "## 0부터 시작하니 3번째에 있는 값 가져와 달라는 뜻\n",
    "a[2]\n",
    "## -1은 뒤에서 첫번째 값의미\n",
    "a[-1]\n",
    "\n",
    "## 다차원 배열 인덱싱\n",
    "a = np.array([[0, 1, 2], [3, 4, 5]])\n",
    "a\n",
    "\n",
    "## 첫번째 행의 첫번째 열\n",
    "a[0, 0]  \n",
    "## 마지막 행의 마지막 열\n",
    "a[-1, -1] "
   ]
  },
  {
   "attachments": {},
   "cell_type": "markdown",
   "metadata": {},
   "source": [
    "### 7-3. 배열 슬라이싱\n",
    "\n",
    "> 슬라이싱\n",
    "- 배열 객체로 구현한 다차원 배열의 원소 중 복수 개를 접근하려면 일반적인 파이썬 슬라이싱(slicing)과 comma(,)를 함께 사용하면 된다."
   ]
  },
  {
   "cell_type": "code",
   "execution_count": 25,
   "metadata": {},
   "outputs": [
    {
     "data": {
      "text/plain": [
       "array([5, 6, 7])"
      ]
     },
     "execution_count": 25,
     "metadata": {},
     "output_type": "execute_result"
    }
   ],
   "source": [
    "# 2차원 슬라이싱\n",
    "a = np.array([[0, 1, 2, 3], [4, 5, 6, 7]])\n",
    "a\n",
    "\n",
    "# 첫번째 행 전체\n",
    "a[0, :] \n",
    "\n",
    "# 두번째 열 전체\n",
    "a[:, 1]  \n",
    "\n",
    "# 두번째 행의 두번째 열부터 끝열까지\n",
    "a[1, 1:]  "
   ]
  },
  {
   "attachments": {},
   "cell_type": "markdown",
   "metadata": {},
   "source": [
    "### 7-4. 통계 및 수학 함수\n",
    "\n",
    "> 차원 축소 연산\n",
    "- 행렬의 하나의 행에 있는 원소들을 하나의 데이터 집합으로 보고 그 집합의 평균을 구하면 각 행에 대해 하나의 숫자가 나오게 된다. \n",
    "- 예를 들어 10x5(5열 10행) 크기의 2차원 배열에 대해 행-평균을 구하면 10개의 숫자를 가진 1차원 벡터가 나오게 된다. 이러한 연산을 차원 축소(dimension reduction) 연산\n",
    "\n",
    "> 넘파이 제공 메서드 \n",
    "- 최대/최소: min, max, argmin, argmax\n",
    "- 통계: sum, mean, median, std, var\n",
    "- 불리언: all, any\n",
    "\n",
    "> 기술 통계 (descriptive statistics)\n",
    "https://datascienceschool.net/01%20python/03.04%20%EA%B8%B0%EC%88%A0%20%ED%86%B5%EA%B3%84.html\n",
    ": 넘파이는 데이터 집합에 대해 간단한 통계를 계산하는 함수를 제공한다. 그리고 해당 관련 값들을 통틀어 기술 통계라고 한다.\n",
    "\n",
    "- 데이터의 개수(count), narray에서는 len()을 활용하여 배열 내 데이터의 개수를 구할 수 있다. \n",
    "    - 통계에서는 N으로 쓰이고, 전체 도수(각 범주에 속하는 도수의 총합)\n",
    "    - 도수 : 각 범주에 속하는 자료의 수 \n",
    "\n",
    "- 평균(mean, average)\n",
    "    - mean(표본평균 sample average, mean ) : 𝑥 데이터에 대한 표본 평균은 𝑥¯\n",
    "\n",
    "- 분산(variance)\n",
    "    - 표본 분산(sample variance)은 데이터와 표본 평균간의 거리의 제곱의 평균이다.\n",
    "    - 표본 분산이 작으면 데이터가 모여있는 것이고 크면 흩어져 있는 것 ,  수학 기호로는 𝑠2\n",
    "\n",
    "- 표준 편차(standard deviation)\n",
    "    - 표본 표준편차(sample standard variance)는 표본 분산의 양의 제곱근 값 , 수학기호로는 𝑠\n",
    "\n",
    "- 최댓값(maximum)\n",
    "- 최솟값(minimum)\n",
    "- 중앙값(median)\n",
    "    - 중앙값(median)은 데이터를 크기대로 정렬하였을 때 가장 가운데에 있는 수를 말한다. \n",
    "    - 데이터의 수가 짝수이면 가장 가운데에 있는 두 수의 평균을 사용한다.\n",
    "\n",
    "- 사분위수(quartile)\n",
    "    - 사분위수(quartile)는 데이터를 가장 작은 수부터 가장 큰 수까지 크기가 커지는 순서대로 정렬하였을 때 1/4, 2/4, 3/4 위치에 있는 수를 말한다. \n",
    "    - 각각 1사분위수, 2사분위수, 3사분위수라고 한다. 1/4의 위치란 전체 데이터의 수가 만약 100개이면 25번째 순서, 즉 하위 25%를 말한다. 따라서 2사분위수는 중앙값과 같다.\n",
    "        - 1/100 단위로 나눈 백분위수(percentile)을 사용하기도 한다. 1사분위수는 25% 백분위수와 동일\n",
    "\n",
    "\n",
    "- 기타) axis 정리 \n",
    "    https://e2xist.tistory.com/769"
   ]
  },
  {
   "cell_type": "code",
   "execution_count": 26,
   "metadata": {},
   "outputs": [
    {
     "name": "stdout",
     "output_type": "stream",
     "text": [
      "N값 3\n",
      "합 45\n",
      "합 45\n",
      "\n",
      "평균 5.0\n",
      "포준 편차 2.581988897471611\n",
      "분산 6.666666666666667\n",
      "최대값 9\n",
      "최소값 1\n",
      "\n",
      "\n",
      "열 최대 값 [7 8 9]\n",
      "열 최대 값 [1 2 3]\n",
      "열에서 평균값 [4. 5. 6.]\n",
      "행 최대 값 [3 6 9]\n",
      "행 최소 값 [1 4 7]\n",
      "행에서 평균값 [2. 5. 8.]\n",
      "\n",
      "\n",
      "사분위수\n",
      "1.0\n",
      "3.0\n",
      "5.0\n",
      "7.0\n",
      "9.0\n"
     ]
    }
   ],
   "source": [
    "# 기술통계 예시\n",
    "# 2차원 형태의 배열(행렬matrix)\n",
    "\n",
    "matrix = np.array([[1,2,3],[4,5,6],[7,8,9]])\n",
    "\n",
    "print('N값', len(matrix)) # 갯수\n",
    "print('합', np.sum(matrix)) # 합\n",
    "print('합', matrix.sum()) #합\n",
    "\n",
    "print()\n",
    "print('평균', np.mean(matrix)) #평균\n",
    "print('포준 편차', np.std(matrix)) # 표준 편차 \n",
    "print('분산', np.var(matrix)) # 분산\n",
    "print('최대값', np.max(matrix)) # 최대값\n",
    "print('최소값', np.min(matrix)) # 최소값\n",
    "\n",
    "print()\n",
    "print()\n",
    "## 열과 행에서 최대,최소값을 구하는 경우 \n",
    "### 열 에서 찾는 경우 \n",
    "print('열 최대 값', np.max(matrix, axis =0 ))\n",
    "print('열 최대 값', np.min(matrix, axis =0 ))\n",
    "print('열에서 평균값', np.mean(matrix, axis =0 ))\n",
    "\n",
    "### 행에서 찾는 경우 \n",
    "print('행 최대 값', np.max(matrix, axis =1 ))\n",
    "print('행 최소 값', np.min(matrix, axis =1 ))\n",
    "print('행에서 평균값', np.mean(matrix, axis =1 ))\n",
    "\n",
    "print()\n",
    "print()\n",
    "### 사분위수 \n",
    "print('사분위수')\n",
    "print(np.percentile(matrix, 0))   # 최소값\n",
    "print(np.percentile(matrix, 25))  # 1사분위 수 \n",
    "print(np.percentile(matrix, 50))  # 2사분위 수 \n",
    "print(np.percentile(matrix, 75))  # 3사분위 수 \n",
    "print(np.percentile(matrix, 100)) # 최대값"
   ]
  },
  {
   "attachments": {},
   "cell_type": "markdown",
   "metadata": {},
   "source": [
    "### 7-5. 난수 생성\n",
    "https://datascienceschool.net/01%20python/03.05%20%EB%82%9C%EC%88%98%20%EB%B0%9C%EC%83%9D%EA%B3%BC%20%EC%B9%B4%EC%9A%B4%ED%8C%85.html\n",
    "\n",
    ": 파이썬을 이용하여 데이터를 무작위로 섞거나 임의의 수 즉, 난수(random number)를 발생시킬 수 있다. 이 기능은 주로 NumPy의 random 모듈에서 제공하며, 내장 random함수보다 훨씬 빠름\n",
    "\n",
    "> 시드 설정하기\n",
    "- 컴퓨터 프로그램에서 발생하는 무작위 수는 사실 엄격한 의미의 무작위 수가 아니다. \n",
    "- 어떤 특정한 시작 숫자를 정해 주면 컴퓨터가 정해진 알고리즘에 의해 마치 난수처럼 보이는 수열을 생성하는데, 이런 시작 숫자를 시드(seed)라고하며 난수는 다음번 난수 생성을 위한 시드값이 된다.  - - 즉, 시드값은 한 번만 설정해주면 된다.\n",
    "- 파이썬에서 시드를 설정은 seed()함수로 진행, 인수로는 0과 같거나 큰 정수가 가능함\n",
    "\n",
    "\n",
    ">난수 관련 함수 \n",
    "- seed()    : 난수 생성의 시드를 지정, 시드 값에 따라 정해진 난수를 알고리즘으로 생성함\n",
    "- road()    : 균등 분포에서 요소값을 추출함 \n",
    "- random()  : 실수 난수를 생성한다. \n",
    "- radint()  : 최대,최소 범위 내에서 정수를 추출함 (균일 분포의 정수 난수)\n",
    "- randn()   : 정규분포(평균:0, 표준편차:1)에서 요소값을 추출한다. 표준 정규 분포\n",
    "- normal()  : 정규분포에서 요소값을 추출한다.\n",
    "- uniform() : 임의의 분포에서 표본을 추출한다.\n",
    "- random_sample()   : 0.0 ~ 1.0 실수를 랜덤으로 추출한다.\n",
    "- standard_normal() : 정규분포(평균:0, 표준편차:1)에서 요소 값을 추출한다.\n",
    "- choice()  : 랜덤하게 샘플을 선택한다.\n",
    "- shuffle() : 순서를 뒤섞는다.\n",
    "\n",
    "> 데이터 샘플링\n",
    "- 이미 있는 데이터 집합에서 일부를 무작위로 선택하는 것을 표본선택 혹은 샘플링(sampling)이라고 한다.\n",
    "- 샘플링에는 choice 함수를 사용하며,choice 함수는 다음과 같은 인수를 가질 수 있다.\n",
    "\n",
    ">>>>numpy.random.choice(a, size=None, replace=True, p=None)\n",
    "- a : 배열이면 원래의 데이터, 정수이면 arange(a) 명령으로 데이터 생성\n",
    "- size : 정수. 샘플 숫자\n",
    "- replace : 불리언. True이면 한번 선택한 데이터를 다시 선택 가능\n",
    "- p : 배열. 각 데이터가 선택될 수 있는 확률"
   ]
  },
  {
   "cell_type": "code",
   "execution_count": 27,
   "metadata": {},
   "outputs": [
    {
     "name": "stdout",
     "output_type": "stream",
     "text": [
      "0과 1.0tkdldptj 10개의 실수 난수 생성 0.5488135039273248\n",
      "1부터 45 사이에 6개 정수를 생성합니다. 5\n",
      "평균이0.0이고 표준편차가 1.0dls 정규 분포에서 5개의 수를 뽑음 [ 0.11849646  0.11396779  0.37025538  1.04053075 -1.51698273]\n"
     ]
    }
   ],
   "source": [
    "#난수 생성 및 초기 값 설정 \n",
    "\n",
    "np.random.seed(0)\n",
    "\n",
    "print('0과 1.0tkdldptj 10개의 실수 난수 생성', np.random.random())\n",
    "print('1부터 45 사이에 6개 정수를 생성합니다.',np.random.randint(0.46,6))\n",
    "print('평균이0.0이고 표준편차가 1.0dls 정규 분포에서 5개의 수를 뽑음', np.random.normal(0.0, 1.0,5))"
   ]
  },
  {
   "attachments": {},
   "cell_type": "markdown",
   "metadata": {},
   "source": [
    "### 7.6 정렬\n",
    "\n",
    "> sort(), argsort() \n",
    "- 함수를 사용해서 N차원의 데이터 구조를 정렬\n",
    "- argsort() \n",
    "    - 주어진 하나 이상의 숫자(key)를 기준으로 데이터를 정렬할 대는 argsort()를 사용함\n"
   ]
  },
  {
   "cell_type": "code",
   "execution_count": 35,
   "metadata": {},
   "outputs": [
    {
     "name": "stdout",
     "output_type": "stream",
     "text": [
      "1차원 배열 sort()전, [ 1.62434536 -0.61175641 -0.52817175 -1.07296862  0.86540763]\n",
      "1차원 배열 sort()정렬 후, [-1.07296862 -0.61175641 -0.52817175  0.86540763  1.62434536]\n",
      "2차원 배열 sort()정렬 전, [[-2.3015387   1.74481176 -0.7612069   0.3190391  -0.24937038]\n",
      " [ 1.46210794 -2.06014071 -0.3224172  -0.38405435  1.13376944]\n",
      " [-1.09989127 -0.17242821 -0.87785842  0.04221375  0.58281521]\n",
      " [-1.10061918  1.14472371  0.90159072  0.50249434  0.90085595]\n",
      " [-0.68372786 -0.12289023 -0.93576943 -0.26788808  0.53035547]]\n",
      "2차원 배열 정렬 후, [[-2.3015387  -0.7612069  -0.24937038  0.3190391   1.74481176]\n",
      " [-2.06014071 -0.38405435 -0.3224172   1.13376944  1.46210794]\n",
      " [-1.09989127 -0.87785842 -0.17242821  0.04221375  0.58281521]\n",
      " [-1.10061918  0.50249434  0.90085595  0.90159072  1.14472371]\n",
      " [-0.93576943 -0.68372786 -0.26788808 -0.12289023  0.53035547]]\n",
      "2차원 배열 axis=0(열)기준 정렬 전, [[-0.69166075 -0.39675353 -0.6871727  -0.84520564 -0.67124613]\n",
      " [-0.0126646  -1.11731035  0.2344157   1.65980218  0.74204416]\n",
      " [-0.19183555 -0.88762896 -0.74715829  1.6924546   0.05080775]\n",
      " [-0.63699565  0.19091548  2.10025514  0.12015895  0.61720311]\n",
      " [ 0.30017032 -0.35224985 -1.1425182  -0.34934272 -0.20889423]]\n",
      "2차원 배열 axis=1(열)기준 정렬 후, [[-0.69166075 -0.39675353 -0.6871727  -0.84520564 -0.67124613]\n",
      " [-0.0126646  -1.11731035  0.2344157   1.65980218  0.74204416]\n",
      " [-0.19183555 -0.88762896 -0.74715829  1.6924546   0.05080775]\n",
      " [-0.63699565  0.19091548  2.10025514  0.12015895  0.61720311]\n",
      " [ 0.30017032 -0.35224985 -1.1425182  -0.34934272 -0.20889423]]\n",
      "2차원 배열 axis=1(행)기준 정렬 전, [[ 0.58662319  0.83898341  0.93110208  0.28558733  0.88514116]\n",
      " [-0.75439794  1.25286816  0.51292982 -0.29809284  0.48851815]\n",
      " [-0.07557171  1.13162939  1.51981682  2.18557541 -1.39649634]\n",
      " [-1.44411381 -0.50446586  0.16003707  0.87616892  0.31563495]\n",
      " [-2.02220122 -0.30620401  0.82797464  0.23009474  0.76201118]]\n",
      "2차원 배열 axis=1(행)기준 정렬 후, [[ 0.28558733  0.58662319  0.83898341  0.88514116  0.93110208]\n",
      " [-0.75439794 -0.29809284  0.48851815  0.51292982  1.25286816]\n",
      " [-1.39649634 -0.07557171  1.13162939  1.51981682  2.18557541]\n",
      " [-1.44411381 -0.50446586  0.16003707  0.31563495  0.87616892]\n",
      " [-2.02220122 -0.30620401  0.23009474  0.76201118  0.82797464]]\n",
      "2차원 배열 첫번째 행만 전렬 전, [[-0.22232814 -0.20075807  0.18656139  0.41005165  0.19829972]\n",
      " [ 0.11900865 -0.67066229  0.37756379  0.12182127  1.12948391]\n",
      " [ 1.19891788  0.18515642 -0.37528495 -0.63873041  0.42349435]\n",
      " [ 0.07734007 -0.34385368  0.04359686 -0.62000084  0.69803203]\n",
      " [-0.44712856  1.2245077   0.40349164  0.59357852 -1.09491185]]\n",
      "2차원 배열 첫번째 행만 전렬 후, [[-0.44712856 -0.20075807  0.18656139  0.41005165  0.19829972]\n",
      " [-0.22232814 -0.67066229  0.37756379  0.12182127  1.12948391]\n",
      " [ 0.07734007  0.18515642 -0.37528495 -0.63873041  0.42349435]\n",
      " [ 0.11900865 -0.34385368  0.04359686 -0.62000084  0.69803203]\n",
      " [ 1.19891788  1.2245077   0.40349164  0.59357852 -1.09491185]]\n"
     ]
    }
   ],
   "source": [
    "# 난수를 생성기의 시드값에 따라 정해진 난수를 생성\n",
    "np.random.seed(1)\n",
    "\n",
    "# 표준편차가 1, 평균값이 0인 정규분포에서 랜덤으로 숫자를 결정\n",
    "## 1 차원\n",
    "vector_1 = np.random.randn(5)\n",
    "print('1차원 배열 sort()전,', vector_1)\n",
    "vector_1.sort()\n",
    "print('1차원 배열 sort()정렬 후,',vector_1)\n",
    "\n",
    "## 2 차원\n",
    "matrix_1 = np.random.randn(5,5)\n",
    "print('2차원 배열 sort()정렬 전,', matrix_1)\n",
    "matrix_1.sort()\n",
    "print('2차원 배열 정렬 후,', matrix_1)\n",
    "\n",
    "## 특정 축을 기준으로 정렬\n",
    "matrix_2 = np.random.randn(5,5)\n",
    "print('2차원 배열 axis=0(열)기준 정렬 전,', matrix_2)\n",
    "matrix_2.sort\n",
    "print('2차원 배열 axis=1(열)기준 정렬 후,', matrix_2)\n",
    "\n",
    "matrix_3 = np.random.randn(5,5)\n",
    "print('2차원 배열 axis=1(행)기준 정렬 전,', matrix_3)\n",
    "matrix_3.sort(axis=1)\n",
    "print('2차원 배열 axis=1(행)기준 정렬 후,', matrix_3)\n",
    "\n",
    "## 첫번째 행만 정렬\n",
    "# 슬라이싱 활용\n",
    "\n",
    "matrix_4 = np.random.randn(5,5)\n",
    "print('2차원 배열 첫번째 행만 전렬 전,', matrix_4)\n",
    "matrix_4[:,0].sort()\n",
    "print('2차원 배열 첫번째 행만 전렬 후,', matrix_4)"
   ]
  },
  {
   "attachments": {},
   "cell_type": "markdown",
   "metadata": {},
   "source": [
    "### 7-7. 배열의 크기 바꾸기 \n"
   ]
  },
  {
   "attachments": {},
   "cell_type": "markdown",
   "metadata": {},
   "source": [
    "### 7-8. 벡터나 행렬 전치하기 \n",
    "### 7-9. 행렬 펼치기\n",
    "### 7-10. 산술 연산 및 선형 대수\n",
    "### 7-11. 불리언 "
   ]
  }
 ],
 "metadata": {
  "kernelspec": {
   "display_name": "conda",
   "language": "python",
   "name": "conda"
  },
  "language_info": {
   "codemirror_mode": {
    "name": "ipython",
    "version": 3
   },
   "file_extension": ".py",
   "mimetype": "text/x-python",
   "name": "python",
   "nbconvert_exporter": "python",
   "pygments_lexer": "ipython3",
   "version": "3.9.13"
  },
  "orig_nbformat": 4
 },
 "nbformat": 4,
 "nbformat_minor": 2
}
